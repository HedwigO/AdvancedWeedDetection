{
  "nbformat": 4,
  "nbformat_minor": 0,
  "metadata": {
    "colab": {
      "provenance": [],
      "machine_shape": "hm",
      "gpuType": "L4"
    },
    "kernelspec": {
      "name": "python3",
      "display_name": "Python 3"
    },
    "language_info": {
      "name": "python"
    },
    "accelerator": "GPU"
  },
  "cells": [
    {
      "cell_type": "code",
      "execution_count": null,
      "metadata": {
        "id": "BjiarMyg-8Ob"
      },
      "outputs": [],
      "source": [
        "import numpy as np\n",
        "import pandas as pd\n",
        "import os\n",
        "import cv2\n",
        "from sklearn.model_selection import train_test_split\n",
        "from tensorflow.keras.models import Sequential\n",
        "from tensorflow.keras.layers import Conv2D, MaxPooling2D, Flatten, Dense\n",
        "from tensorflow.keras.utils import to_categorical\n",
        "import albumentations as A"
      ]
    },
    {
      "cell_type": "code",
      "source": [
        "# Define function to apply weather effects\n",
        "def apply_weather_effect(image, effect_type=\"rain\"):\n",
        "    if effect_type == \"rain\":\n",
        "        transform = A.RandomRain(brightness_coefficient=0.9, drop_width=1, blur_value=3, p=1)\n",
        "    elif effect_type == \"snow\":\n",
        "        transform = A.RandomSnow(brightness_coeff=2.5, snow_point_lower=0.3, snow_point_upper=0.5, p=1)\n",
        "    return transform(image=image)['image']"
      ],
      "metadata": {
        "id": "krpYGEYo_Xqa"
      },
      "execution_count": null,
      "outputs": []
    },
    {
      "cell_type": "code",
      "source": [
        "from google.colab import drive\n",
        "drive.mount('/content/drive')"
      ],
      "metadata": {
        "colab": {
          "base_uri": "https://localhost:8080/"
        },
        "id": "RS3PgZ_oAUDg",
        "outputId": "4bc28dfb-0c1c-4791-f5ab-19f80bd273a2"
      },
      "execution_count": null,
      "outputs": [
        {
          "output_type": "stream",
          "name": "stdout",
          "text": [
            "Drive already mounted at /content/drive; to attempt to forcibly remount, call drive.mount(\"/content/drive\", force_remount=True).\n"
          ]
        }
      ]
    },
    {
      "cell_type": "code",
      "source": [
        "# Load dataset\n",
        "image_data_dir = \"/content/drive/My Drive/CNN/Dataset/train_images\"\n",
        "image_filenames = os.listdir(image_data_dir)\n",
        "labels_data = pd.read_csv(\"/content/drive/My Drive/CNN/Dataset/labels.csv\")\n",
        "\n",
        "# Preprocess and separate original and augmented data\n",
        "original_images = []\n",
        "augmented_images = []\n",
        "original_labels = []\n",
        "augmented_labels = []\n",
        "\n",
        "for filename in image_filenames:\n",
        "    image_path = os.path.join(image_data_dir, filename)\n",
        "    image = cv2.imread(image_path)\n",
        "    image = cv2.cvtColor(image, cv2.COLOR_BGR2RGB) if image is not None else None\n",
        "    if image is not None and filename in labels_data['image_filename'].values:\n",
        "        label = labels_data[labels_data['image_filename'] == filename]['label'].iloc[0]\n",
        "        original_images.append(image)\n",
        "        original_labels.append(label)\n",
        "\n",
        "        # Randomly decide to augment with weather effects\n",
        "        if np.random.rand() < 0.5:  # 50% chance to augment\n",
        "            effect_type = np.random.choice([\"rain\", \"snow\"])\n",
        "            aug_image = apply_weather_effect(image, effect_type=effect_type)\n",
        "            augmented_images.append(aug_image)\n",
        "            augmented_labels.append(label)"
      ],
      "metadata": {
        "id": "FKUqG7aX_cQt"
      },
      "execution_count": null,
      "outputs": []
    },
    {
      "cell_type": "code",
      "source": [
        "# Convert lists to arrays\n",
        "X_original = np.array(original_images)\n",
        "y_original = to_categorical(np.array(original_labels))\n",
        "X_augmented = np.array(augmented_images)\n",
        "y_augmented = to_categorical(np.array(augmented_labels))\n",
        "\n",
        "# Combine original and augmented for validation and testing\n",
        "X_combined = np.concatenate((X_original, X_augmented))\n",
        "y_combined = np.concatenate((y_original, y_augmented))\n",
        "\n",
        "# Split into training, validation, and test sets\n",
        "X_train_orig, X_temp, y_train_orig, y_temp = train_test_split(X_original, y_original, test_size=0.3, random_state=42)\n",
        "X_val, X_test, y_val, y_test = train_test_split(X_combined, y_combined, test_size=0.5, random_state=42)  # Split combined for validation and testing\n",
        "\n",
        "X_train_aug, _, y_train_aug, _ = train_test_split(X_augmented, y_augmented, test_size=0.3, random_state=42)  # Training set for augmented model"
      ],
      "metadata": {
        "id": "_KIfXhOi_mQR"
      },
      "execution_count": null,
      "outputs": []
    },
    {
      "cell_type": "code",
      "source": [
        "from tensorflow.keras.applications import ResNet50\n",
        "\n",
        "# ResNet50 model before fine tuning\n",
        "def create_model(input_shape, num_classes):\n",
        "    base_model = ResNet50(weights='imagenet', include_top=False, input_shape=input_shape)\n",
        "    for layer in base_model.layers:\n",
        "        layer.trainable = False\n",
        "\n",
        "    model = Sequential([\n",
        "        base_model,\n",
        "        Flatten(),\n",
        "        Dense(64, activation=\"relu\"),\n",
        "        Dense(num_classes, activation=\"softmax\")\n",
        "    ])\n",
        "    model.compile(loss=\"categorical_crossentropy\", optimizer=\"adam\", metrics=[\"accuracy\"])\n",
        "    return model"
      ],
      "metadata": {
        "id": "HB--5XVJvzVm"
      },
      "execution_count": null,
      "outputs": []
    },
    {
      "cell_type": "code",
      "source": [
        "# Create and train baseline model\n",
        "baseline_model = create_model(X_train_orig.shape[1:], y_train_orig.shape[1])\n",
        "baseline_history = baseline_model.fit(X_train_orig, y_train_orig, epochs=40, validation_data=(X_val, y_val))"
      ],
      "metadata": {
        "colab": {
          "base_uri": "https://localhost:8080/"
        },
        "id": "CmB42h2Tv8jt",
        "outputId": "45522515-c443-45b4-907e-de0aabb45048"
      },
      "execution_count": null,
      "outputs": [
        {
          "output_type": "stream",
          "name": "stdout",
          "text": [
            "Epoch 1/40\n",
            "21/21 [==============================] - 21s 859ms/step - loss: 16.2234 - accuracy: 0.8674 - val_loss: 10.1041 - val_accuracy: 0.9043\n",
            "Epoch 2/40\n",
            "21/21 [==============================] - 11s 540ms/step - loss: 1.9276 - accuracy: 0.9532 - val_loss: 4.1248 - val_accuracy: 0.9043\n",
            "Epoch 3/40\n",
            "21/21 [==============================] - 11s 541ms/step - loss: 0.0767 - accuracy: 0.9844 - val_loss: 3.1060 - val_accuracy: 0.8914\n",
            "Epoch 4/40\n",
            "21/21 [==============================] - 11s 542ms/step - loss: 0.0549 - accuracy: 0.9875 - val_loss: 2.9134 - val_accuracy: 0.8986\n",
            "Epoch 5/40\n",
            "21/21 [==============================] - 11s 543ms/step - loss: 0.0212 - accuracy: 0.9875 - val_loss: 3.0050 - val_accuracy: 0.9014\n",
            "Epoch 6/40\n",
            "21/21 [==============================] - 11s 543ms/step - loss: 0.0199 - accuracy: 0.9906 - val_loss: 2.8906 - val_accuracy: 0.9114\n",
            "Epoch 7/40\n",
            "21/21 [==============================] - 11s 544ms/step - loss: 0.0196 - accuracy: 0.9938 - val_loss: 2.9099 - val_accuracy: 0.9129\n",
            "Epoch 8/40\n",
            "21/21 [==============================] - 11s 545ms/step - loss: 0.0187 - accuracy: 0.9906 - val_loss: 2.9511 - val_accuracy: 0.9086\n",
            "Epoch 9/40\n",
            "21/21 [==============================] - 11s 546ms/step - loss: 0.0181 - accuracy: 0.9922 - val_loss: 2.9762 - val_accuracy: 0.9086\n",
            "Epoch 10/40\n",
            "21/21 [==============================] - 11s 547ms/step - loss: 0.0177 - accuracy: 0.9938 - val_loss: 3.0120 - val_accuracy: 0.9071\n",
            "Epoch 11/40\n",
            "21/21 [==============================] - 11s 547ms/step - loss: 0.0175 - accuracy: 0.9922 - val_loss: 3.0304 - val_accuracy: 0.9071\n",
            "Epoch 12/40\n",
            "21/21 [==============================] - 11s 547ms/step - loss: 0.0175 - accuracy: 0.9938 - val_loss: 3.0392 - val_accuracy: 0.9100\n",
            "Epoch 13/40\n",
            "21/21 [==============================] - 11s 548ms/step - loss: 0.0176 - accuracy: 0.9922 - val_loss: 3.0227 - val_accuracy: 0.9100\n",
            "Epoch 14/40\n",
            "21/21 [==============================] - 11s 549ms/step - loss: 0.0174 - accuracy: 0.9938 - val_loss: 3.0593 - val_accuracy: 0.9071\n",
            "Epoch 15/40\n",
            "21/21 [==============================] - 11s 548ms/step - loss: 0.0172 - accuracy: 0.9938 - val_loss: 3.0922 - val_accuracy: 0.9029\n",
            "Epoch 16/40\n",
            "21/21 [==============================] - 11s 548ms/step - loss: 0.0184 - accuracy: 0.9922 - val_loss: 3.0905 - val_accuracy: 0.9086\n",
            "Epoch 17/40\n",
            "21/21 [==============================] - 11s 549ms/step - loss: 0.0167 - accuracy: 0.9953 - val_loss: 3.0812 - val_accuracy: 0.9086\n",
            "Epoch 18/40\n",
            "21/21 [==============================] - 11s 548ms/step - loss: 0.0160 - accuracy: 0.9953 - val_loss: 3.1116 - val_accuracy: 0.9057\n",
            "Epoch 19/40\n",
            "21/21 [==============================] - 11s 550ms/step - loss: 0.0157 - accuracy: 0.9969 - val_loss: 3.1778 - val_accuracy: 0.9029\n",
            "Epoch 20/40\n",
            "21/21 [==============================] - 11s 549ms/step - loss: 0.0174 - accuracy: 0.9938 - val_loss: 3.0733 - val_accuracy: 0.9100\n",
            "Epoch 21/40\n",
            "21/21 [==============================] - 11s 550ms/step - loss: 0.0160 - accuracy: 0.9953 - val_loss: 3.0337 - val_accuracy: 0.9086\n",
            "Epoch 22/40\n",
            "21/21 [==============================] - 11s 551ms/step - loss: 0.0163 - accuracy: 0.9953 - val_loss: 3.0912 - val_accuracy: 0.9100\n",
            "Epoch 23/40\n",
            "21/21 [==============================] - 11s 550ms/step - loss: 0.0150 - accuracy: 0.9969 - val_loss: 3.1451 - val_accuracy: 0.9100\n",
            "Epoch 24/40\n",
            "21/21 [==============================] - 11s 551ms/step - loss: 0.0146 - accuracy: 0.9969 - val_loss: 3.2147 - val_accuracy: 0.9057\n",
            "Epoch 25/40\n",
            "21/21 [==============================] - 11s 551ms/step - loss: 0.0144 - accuracy: 0.9969 - val_loss: 3.2301 - val_accuracy: 0.9057\n",
            "Epoch 26/40\n",
            "21/21 [==============================] - 11s 551ms/step - loss: 0.0143 - accuracy: 0.9969 - val_loss: 3.2370 - val_accuracy: 0.9057\n",
            "Epoch 27/40\n",
            "21/21 [==============================] - 11s 551ms/step - loss: 0.0143 - accuracy: 0.9969 - val_loss: 3.2430 - val_accuracy: 0.9057\n",
            "Epoch 28/40\n",
            "21/21 [==============================] - 11s 551ms/step - loss: 0.0142 - accuracy: 0.9969 - val_loss: 3.2490 - val_accuracy: 0.9057\n",
            "Epoch 29/40\n",
            "21/21 [==============================] - 11s 551ms/step - loss: 0.0144 - accuracy: 0.9969 - val_loss: 3.1576 - val_accuracy: 0.9100\n",
            "Epoch 30/40\n",
            "21/21 [==============================] - 11s 551ms/step - loss: 0.0142 - accuracy: 0.9969 - val_loss: 3.1866 - val_accuracy: 0.9071\n",
            "Epoch 31/40\n",
            "21/21 [==============================] - 11s 551ms/step - loss: 0.0141 - accuracy: 0.9969 - val_loss: 3.2087 - val_accuracy: 0.9071\n",
            "Epoch 32/40\n",
            "21/21 [==============================] - 11s 552ms/step - loss: 0.0140 - accuracy: 0.9969 - val_loss: 3.2212 - val_accuracy: 0.9057\n",
            "Epoch 33/40\n",
            "21/21 [==============================] - 11s 552ms/step - loss: 0.0140 - accuracy: 0.9969 - val_loss: 3.2314 - val_accuracy: 0.9057\n",
            "Epoch 34/40\n",
            "21/21 [==============================] - 11s 552ms/step - loss: 0.0139 - accuracy: 0.9969 - val_loss: 3.2394 - val_accuracy: 0.9057\n",
            "Epoch 35/40\n",
            "21/21 [==============================] - 11s 553ms/step - loss: 0.0138 - accuracy: 0.9969 - val_loss: 3.2459 - val_accuracy: 0.9057\n",
            "Epoch 36/40\n",
            "21/21 [==============================] - 11s 553ms/step - loss: 0.0138 - accuracy: 0.9969 - val_loss: 3.2525 - val_accuracy: 0.9057\n",
            "Epoch 37/40\n",
            "21/21 [==============================] - 11s 552ms/step - loss: 0.0137 - accuracy: 0.9969 - val_loss: 3.2603 - val_accuracy: 0.9057\n",
            "Epoch 38/40\n",
            "21/21 [==============================] - 11s 552ms/step - loss: 0.0137 - accuracy: 0.9969 - val_loss: 3.1524 - val_accuracy: 0.9100\n",
            "Epoch 39/40\n",
            "21/21 [==============================] - 11s 552ms/step - loss: 0.0139 - accuracy: 0.9969 - val_loss: 3.1872 - val_accuracy: 0.9071\n",
            "Epoch 40/40\n",
            "21/21 [==============================] - 11s 552ms/step - loss: 0.0136 - accuracy: 0.9969 - val_loss: 3.2197 - val_accuracy: 0.9057\n"
          ]
        }
      ]
    },
    {
      "cell_type": "code",
      "source": [
        "# Create and train augmented model\n",
        "augmented_model = create_model(X_train_aug.shape[1:], y_train_aug.shape[1])\n",
        "augmented_history = augmented_model.fit(X_train_aug, y_train_aug, epochs=40, validation_data=(X_val, y_val))"
      ],
      "metadata": {
        "colab": {
          "base_uri": "https://localhost:8080/"
        },
        "id": "ICjg2ZK8xzRL",
        "outputId": "16fbacef-6f05-4620-e3ff-b55f17f15ab0"
      },
      "execution_count": null,
      "outputs": [
        {
          "output_type": "stream",
          "name": "stdout",
          "text": [
            "Epoch 1/40\n",
            "11/11 [==============================] - 17s 1s/step - loss: 25.1085 - accuracy: 0.6302 - val_loss: 0.5567 - val_accuracy: 0.8543\n",
            "Epoch 2/40\n",
            "11/11 [==============================] - 9s 837ms/step - loss: 0.6611 - accuracy: 0.7278 - val_loss: 0.6261 - val_accuracy: 0.6814\n",
            "Epoch 3/40\n",
            "11/11 [==============================] - 9s 836ms/step - loss: 0.6461 - accuracy: 0.6331 - val_loss: 0.6809 - val_accuracy: 0.5857\n",
            "Epoch 4/40\n",
            "11/11 [==============================] - 9s 837ms/step - loss: 0.6592 - accuracy: 0.6183 - val_loss: 0.6789 - val_accuracy: 0.5871\n",
            "Epoch 5/40\n",
            "11/11 [==============================] - 9s 836ms/step - loss: 0.6061 - accuracy: 0.6953 - val_loss: 0.9307 - val_accuracy: 0.8071\n",
            "Epoch 6/40\n",
            "11/11 [==============================] - 9s 836ms/step - loss: 0.6416 - accuracy: 0.7574 - val_loss: 0.5145 - val_accuracy: 0.8200\n",
            "Epoch 7/40\n",
            "11/11 [==============================] - 9s 836ms/step - loss: 0.5769 - accuracy: 0.7219 - val_loss: 0.5600 - val_accuracy: 0.7529\n",
            "Epoch 8/40\n",
            "11/11 [==============================] - 9s 841ms/step - loss: 0.5686 - accuracy: 0.7308 - val_loss: 0.5133 - val_accuracy: 0.8286\n",
            "Epoch 9/40\n",
            "11/11 [==============================] - 9s 841ms/step - loss: 0.5317 - accuracy: 0.7751 - val_loss: 0.8378 - val_accuracy: 0.8800\n",
            "Epoch 10/40\n",
            "11/11 [==============================] - 9s 841ms/step - loss: 0.5822 - accuracy: 0.8254 - val_loss: 0.5821 - val_accuracy: 0.8600\n",
            "Epoch 11/40\n",
            "11/11 [==============================] - 9s 842ms/step - loss: 0.5242 - accuracy: 0.7781 - val_loss: 0.5885 - val_accuracy: 0.8457\n",
            "Epoch 12/40\n",
            "11/11 [==============================] - 9s 841ms/step - loss: 0.5021 - accuracy: 0.8047 - val_loss: 0.9180 - val_accuracy: 0.8700\n",
            "Epoch 13/40\n",
            "11/11 [==============================] - 9s 842ms/step - loss: 0.4739 - accuracy: 0.8698 - val_loss: 1.0561 - val_accuracy: 0.8857\n",
            "Epoch 14/40\n",
            "11/11 [==============================] - 9s 842ms/step - loss: 0.4432 - accuracy: 0.8787 - val_loss: 0.6688 - val_accuracy: 0.8829\n",
            "Epoch 15/40\n",
            "11/11 [==============================] - 9s 842ms/step - loss: 0.4601 - accuracy: 0.8432 - val_loss: 0.6564 - val_accuracy: 0.8814\n",
            "Epoch 16/40\n",
            "11/11 [==============================] - 9s 843ms/step - loss: 0.4374 - accuracy: 0.8669 - val_loss: 0.8160 - val_accuracy: 0.8843\n",
            "Epoch 17/40\n",
            "11/11 [==============================] - 9s 843ms/step - loss: 0.4272 - accuracy: 0.8787 - val_loss: 0.9661 - val_accuracy: 0.8843\n",
            "Epoch 18/40\n",
            "11/11 [==============================] - 9s 843ms/step - loss: 0.3818 - accuracy: 0.9231 - val_loss: 1.4158 - val_accuracy: 0.8800\n",
            "Epoch 19/40\n",
            "11/11 [==============================] - 9s 843ms/step - loss: 0.3843 - accuracy: 0.9379 - val_loss: 1.2316 - val_accuracy: 0.8914\n",
            "Epoch 20/40\n",
            "11/11 [==============================] - 9s 844ms/step - loss: 0.3798 - accuracy: 0.9172 - val_loss: 0.9556 - val_accuracy: 0.8943\n",
            "Epoch 21/40\n",
            "11/11 [==============================] - 9s 843ms/step - loss: 0.3810 - accuracy: 0.9083 - val_loss: 1.0998 - val_accuracy: 0.8886\n",
            "Epoch 22/40\n",
            "11/11 [==============================] - 9s 843ms/step - loss: 0.3599 - accuracy: 0.9260 - val_loss: 1.6140 - val_accuracy: 0.8829\n",
            "Epoch 23/40\n",
            "11/11 [==============================] - 9s 843ms/step - loss: 0.3721 - accuracy: 0.9408 - val_loss: 1.2777 - val_accuracy: 0.8871\n",
            "Epoch 24/40\n",
            "11/11 [==============================] - 9s 843ms/step - loss: 0.3478 - accuracy: 0.9320 - val_loss: 0.9876 - val_accuracy: 0.8957\n",
            "Epoch 25/40\n",
            "11/11 [==============================] - 9s 843ms/step - loss: 0.3427 - accuracy: 0.9320 - val_loss: 0.9950 - val_accuracy: 0.8957\n",
            "Epoch 26/40\n",
            "11/11 [==============================] - 9s 844ms/step - loss: 0.3389 - accuracy: 0.9320 - val_loss: 0.9954 - val_accuracy: 0.8957\n",
            "Epoch 27/40\n",
            "11/11 [==============================] - 9s 843ms/step - loss: 0.3353 - accuracy: 0.9320 - val_loss: 0.9933 - val_accuracy: 0.8971\n",
            "Epoch 28/40\n",
            "11/11 [==============================] - 9s 845ms/step - loss: 0.3318 - accuracy: 0.9320 - val_loss: 0.9902 - val_accuracy: 0.8971\n",
            "Epoch 29/40\n",
            "11/11 [==============================] - 9s 844ms/step - loss: 0.3286 - accuracy: 0.9320 - val_loss: 0.9868 - val_accuracy: 0.8971\n",
            "Epoch 30/40\n",
            "11/11 [==============================] - 9s 844ms/step - loss: 0.3252 - accuracy: 0.9320 - val_loss: 0.9836 - val_accuracy: 0.8971\n",
            "Epoch 31/40\n",
            "11/11 [==============================] - 9s 844ms/step - loss: 0.3221 - accuracy: 0.9320 - val_loss: 0.9801 - val_accuracy: 0.8971\n",
            "Epoch 32/40\n",
            "11/11 [==============================] - 9s 844ms/step - loss: 0.3190 - accuracy: 0.9320 - val_loss: 0.9769 - val_accuracy: 0.8971\n",
            "Epoch 33/40\n",
            "11/11 [==============================] - 9s 845ms/step - loss: 0.3160 - accuracy: 0.9320 - val_loss: 0.9738 - val_accuracy: 0.8971\n",
            "Epoch 34/40\n",
            "11/11 [==============================] - 9s 845ms/step - loss: 0.3132 - accuracy: 0.9320 - val_loss: 0.9706 - val_accuracy: 0.8971\n",
            "Epoch 35/40\n",
            "11/11 [==============================] - 9s 845ms/step - loss: 0.3103 - accuracy: 0.9320 - val_loss: 0.9677 - val_accuracy: 0.8971\n",
            "Epoch 36/40\n",
            "11/11 [==============================] - 9s 845ms/step - loss: 0.2978 - accuracy: 0.9408 - val_loss: 1.4271 - val_accuracy: 0.8786\n",
            "Epoch 37/40\n",
            "11/11 [==============================] - 9s 846ms/step - loss: 0.2933 - accuracy: 0.9408 - val_loss: 0.7986 - val_accuracy: 0.9086\n",
            "Epoch 38/40\n",
            "11/11 [==============================] - 9s 844ms/step - loss: 0.2941 - accuracy: 0.9408 - val_loss: 0.7627 - val_accuracy: 0.9100\n",
            "Epoch 39/40\n",
            "11/11 [==============================] - 9s 844ms/step - loss: 0.2848 - accuracy: 0.9467 - val_loss: 1.0908 - val_accuracy: 0.9000\n",
            "Epoch 40/40\n",
            "11/11 [==============================] - 9s 844ms/step - loss: 0.2764 - accuracy: 0.9556 - val_loss: 1.1140 - val_accuracy: 0.9000\n"
          ]
        }
      ]
    },
    {
      "cell_type": "code",
      "source": [
        "import matplotlib.pyplot as plt\n",
        "\n",
        "plt.plot(baseline_history.history['accuracy'], label='Baseline Training Accuracy')\n",
        "plt.plot(baseline_history.history['val_accuracy'], label='Baseline Validation Accuracy')\n",
        "plt.plot(augmented_history.history['accuracy'], label='Augmented Training Accuracy')\n",
        "plt.plot(augmented_history.history['val_accuracy'], label='Augmented Validation Accuracy')\n",
        "plt.xlabel('Epoch')\n",
        "plt.ylabel('Accuracy')\n",
        "plt.title('Training and Validation Accuracy')\n",
        "plt.legend()\n",
        "plt.show()"
      ],
      "metadata": {
        "colab": {
          "base_uri": "https://localhost:8080/",
          "height": 472
        },
        "id": "mdivbkVfyxQX",
        "outputId": "fa17d866-bd6f-4d02-ea7a-2a0de3bdd112"
      },
      "execution_count": null,
      "outputs": [
        {
          "output_type": "display_data",
          "data": {
            "text/plain": [
              "<Figure size 640x480 with 1 Axes>"
            ],
            "image/png": "[encoded data removed]"
          },
          "metadata": {}
        }
      ]
    },
    {
      "cell_type": "code",
      "source": [
        "# Evaluate both models on the test set\n",
        "baseline_score = baseline_model.evaluate(X_test, y_test, verbose=0)\n",
        "augmented_score = augmented_model.evaluate(X_test, y_test, verbose=0)\n",
        "print(\"Baseline Model - Test loss:\", baseline_score[0], \"Test accuracy:\", baseline_score[1])\n",
        "print(\"Augmented Model - Test loss:\", augmented_score[0], \"Test accuracy:\", augmented_score[1])"
      ],
      "metadata": {
        "colab": {
          "base_uri": "https://localhost:8080/"
        },
        "id": "bqruUfPAyzYG",
        "outputId": "ae4e4df3-3fc2-4928-ddab-0fb105795658"
      },
      "execution_count": null,
      "outputs": [
        {
          "output_type": "stream",
          "name": "stdout",
          "text": [
            "Baseline Model - Test loss: 2.413829803466797 Test accuracy: 0.9171428680419922\n",
            "Augmented Model - Test loss: 0.7127743363380432 Test accuracy: 0.9357143044471741\n"
          ]
        }
      ]
    },
    {
      "cell_type": "code",
      "source": [
        "pip install keras-tuner"
      ],
      "metadata": {
        "colab": {
          "base_uri": "https://localhost:8080/"
        },
        "id": "u09OgqcCgIYQ",
        "outputId": "d11eeb67-f80c-44b5-eff8-32f7f1c0faf9"
      },
      "execution_count": null,
      "outputs": [
        {
          "output_type": "stream",
          "name": "stdout",
          "text": [
            "Requirement already satisfied: keras-tuner in /usr/local/lib/python3.10/dist-packages (1.4.7)\n",
            "Requirement already satisfied: keras in /usr/local/lib/python3.10/dist-packages (from keras-tuner) (2.15.0)\n",
            "Requirement already satisfied: packaging in /usr/local/lib/python3.10/dist-packages (from keras-tuner) (24.0)\n",
            "Requirement already satisfied: requests in /usr/local/lib/python3.10/dist-packages (from keras-tuner) (2.31.0)\n",
            "Requirement already satisfied: kt-legacy in /usr/local/lib/python3.10/dist-packages (from keras-tuner) (1.0.5)\n",
            "Requirement already satisfied: charset-normalizer<4,>=2 in /usr/local/lib/python3.10/dist-packages (from requests->keras-tuner) (3.3.2)\n",
            "Requirement already satisfied: idna<4,>=2.5 in /usr/local/lib/python3.10/dist-packages (from requests->keras-tuner) (3.7)\n",
            "Requirement already satisfied: urllib3<3,>=1.21.1 in /usr/local/lib/python3.10/dist-packages (from requests->keras-tuner) (2.0.7)\n",
            "Requirement already satisfied: certifi>=2017.4.17 in /usr/local/lib/python3.10/dist-packages (from requests->keras-tuner) (2024.2.2)\n"
          ]
        }
      ]
    },
    {
      "cell_type": "code",
      "source": [
        "from tensorflow.keras.layers import Dropout\n",
        "from tensorflow.keras.applications import ResNet50\n",
        "from tensorflow.keras.optimizers import Adam\n",
        "from keras_tuner import RandomSearch\n",
        "\n",
        "def create_tune_model(hp):\n",
        "    base_model = ResNet50(weights='imagenet', include_top=False, input_shape=(512, 512, 3))  # Adjusted for your images\n",
        "    for layer in base_model.layers:\n",
        "        layer.trainable = False\n",
        "\n",
        "    model = Sequential([\n",
        "        base_model,\n",
        "        Flatten(),\n",
        "        Dense(hp.Int('units', min_value=32, max_value=128, step=32), activation=hp.Choice('dense_activation', values=['relu', 'tanh', 'sigmoid'])),\n",
        "        Dropout(hp.Float('dropout', min_value=0.0, max_value=0.5, step=0.1)),\n",
        "        Dense(2, activation='softmax')  # Assuming you have 2 classes\n",
        "    ])\n",
        "\n",
        "    model.compile(\n",
        "        optimizer=Adam(learning_rate=hp.Float('learning_rate', min_value=1e-5, max_value=1e-2, sampling='LOG')),\n",
        "        loss='categorical_crossentropy',\n",
        "        metrics=['accuracy']\n",
        "    )\n",
        "    return model"
      ],
      "metadata": {
        "id": "qqB-8MqJJaz8"
      },
      "execution_count": null,
      "outputs": []
    },
    {
      "cell_type": "code",
      "source": [
        "tuner = RandomSearch(\n",
        "    create_tune_model,\n",
        "    objective='val_accuracy',\n",
        "    max_trials=10,  # Set the number of trials (model configurations) to test\n",
        "    executions_per_trial=1,  # Number of models to train per trial\n",
        "    directory='model_tuning',\n",
        "    project_name='WeedDetection'\n",
        ")\n",
        "\n",
        "# Start tuning with the training data\n",
        "tuner.search(X_train_aug, y_train_aug, epochs=40, validation_data=(X_val, y_val))\n",
        "\n",
        "# Get the optimal hyperparameters\n",
        "best_hps = tuner.get_best_hyperparameters(num_trials=1)[0]\n",
        "\n",
        "print(f\"\"\"\n",
        "The best hyperparameters are:\n",
        "- Units: {best_hps.get('units')}\n",
        "- Dense Activation: {best_hps.get('dense_activation')}\n",
        "- Dropout: {best_hps.get('dropout')}\n",
        "- Learning Rate: {best_hps.get('learning_rate')}\n",
        "\"\"\")\n",
        "\n",
        "# You can also retrain the model with the best hyperparameters or analyze them further\n",
        "rstune_model = tuner.get_best_models(num_models=1)[0]"
      ],
      "metadata": {
        "colab": {
          "base_uri": "https://localhost:8080/"
        },
        "id": "91oye7bEd3NV",
        "outputId": "11163203-3335-4644-bd32-04ef9c3c341f"
      },
      "execution_count": null,
      "outputs": [
        {
          "output_type": "stream",
          "name": "stdout",
          "text": [
            "Reloading Tuner from model_tuning/WeedDetection/tuner0.json\n",
            "\n",
            "The best hyperparameters are:\n",
            "- Units: 96\n",
            "- Dense Activation: sigmoid\n",
            "- Dropout: 0.0\n",
            "- Learning Rate: 1.3784059518427684e-05\n",
            "\n"
          ]
        },
        {
          "output_type": "stream",
          "name": "stderr",
          "text": [
            "WARNING:tensorflow:Detecting that an object or model or tf.train.Checkpoint is being deleted with unrestored values. See the following logs for the specific values in question. To silence these warnings, use `status.expect_partial()`. See https://www.tensorflow.org/api_docs/python/tf/train/Checkpoint#restorefor details about the status object returned by the restore function.\n",
            "WARNING:tensorflow:Value in checkpoint could not be found in the restored object: (root).optimizer._variables.1\n",
            "WARNING:tensorflow:Value in checkpoint could not be found in the restored object: (root).optimizer._variables.2\n",
            "WARNING:tensorflow:Value in checkpoint could not be found in the restored object: (root).optimizer._variables.3\n",
            "WARNING:tensorflow:Value in checkpoint could not be found in the restored object: (root).optimizer._variables.4\n",
            "WARNING:tensorflow:Value in checkpoint could not be found in the restored object: (root).optimizer._variables.5\n",
            "WARNING:tensorflow:Value in checkpoint could not be found in the restored object: (root).optimizer._variables.6\n",
            "WARNING:tensorflow:Value in checkpoint could not be found in the restored object: (root).optimizer._variables.7\n",
            "WARNING:tensorflow:Value in checkpoint could not be found in the restored object: (root).optimizer._variables.8\n"
          ]
        }
      ]
    },
    {
      "cell_type": "code",
      "source": [
        "# Fetch a summary of the trials\n",
        "trials = tuner.oracle.get_best_trials(num_trials=10)\n",
        "\n",
        "val_accuracies = [trial.score for trial in trials if trial.score is not None]\n",
        "trial_ids = [trial.trial_id for trial in trials if trial.score is not None]\n",
        "\n",
        "plt.figure(figsize=(5, 5))\n",
        "plt.bar(trial_ids, val_accuracies, color='dodgerblue')\n",
        "plt.xlabel('Trial ID')\n",
        "plt.ylabel('Best Validation Accuracy')\n",
        "plt.title('Best Validation Accuracy per Trial')\n",
        "plt.xticks(rotation=45)\n",
        "plt.show()"
      ],
      "metadata": {
        "colab": {
          "base_uri": "https://localhost:8080/",
          "height": 495
        },
        "id": "wKxXt_fONJmj",
        "outputId": "24f79977-7870-4cd2-d9b4-541e7d3d520d"
      },
      "execution_count": null,
      "outputs": [
        {
          "output_type": "display_data",
          "data": {
            "text/plain": [
              "<Figure size 500x500 with 1 Axes>"
            ],
            "image/png": "[encoded data removed]"
          },
          "metadata": {}
        }
      ]
    },
    {
      "cell_type": "code",
      "source": [
        "# Evaluate both models on the test set\n",
        "RandomSearch_score = rstune_model.evaluate(X_test, y_test, verbose=0)\n",
        "print(\"Random Search Model - Test loss:\", RandomSearch_score[0], \"Test accuracy:\", RandomSearch_score[1])"
      ],
      "metadata": {
        "id": "MTEltm3SBC9F",
        "colab": {
          "base_uri": "https://localhost:8080/"
        },
        "outputId": "73009b6e-6a2d-41fc-a30d-a83fed6ecfc8"
      },
      "execution_count": null,
      "outputs": [
        {
          "output_type": "stream",
          "name": "stdout",
          "text": [
            "Random Search Model - Test loss: 0.15610362589359283 Test accuracy: 0.9557142853736877\n"
          ]
        }
      ]
    },
    {
      "cell_type": "code",
      "source": [
        "# Baseline model results before fine-tuning\n",
        "baseline_test_loss = baseline_score[0]\n",
        "baseline_test_accuracy = baseline_score[1]\n",
        "\n",
        "# Augmented model results before fine-tuning\n",
        "augmented_test_loss = augmented_score[0]\n",
        "augmented_test_accuracy = augmented_score[1]\n",
        "\n",
        "# Random search model results after fine-tuning\n",
        "random_search_test_loss = RandomSearch_score[0]\n",
        "random_search_test_accuracy = RandomSearch_score[1]"
      ],
      "metadata": {
        "id": "JqTOJlo8130_"
      },
      "execution_count": null,
      "outputs": []
    },
    {
      "cell_type": "code",
      "source": [
        "# Calculate the percentage change in test loss\n",
        "change_in_test_loss = ((random_search_test_loss - augmented_test_loss) / augmented_test_loss) * 100\n",
        "\n",
        "# Calculate the percentage change in test accuracy\n",
        "change_in_test_accuracy = ((random_search_test_accuracy - augmented_test_accuracy) / augmented_test_accuracy) * 100\n",
        "\n",
        "# Print the results\n",
        "print(f\"Change in Test Loss: {change_in_test_loss:.2f}%\")\n",
        "print(f\"Change in Test Accuracy: {change_in_test_accuracy:.2f}%\")"
      ],
      "metadata": {
        "id": "WtP17-NjNzPz",
        "colab": {
          "base_uri": "https://localhost:8080/"
        },
        "outputId": "a8946bf5-6482-4b5a-fe6a-c8967b6e35ba"
      },
      "execution_count": null,
      "outputs": [
        {
          "output_type": "stream",
          "name": "stdout",
          "text": [
            "Change in Test Loss: -78.10%\n",
            "Change in Test Accuracy: 2.14%\n"
          ]
        }
      ]
    },
    {
      "cell_type": "code",
      "source": [],
      "metadata": {
        "id": "VMq9HnJzNzNC"
      },
      "execution_count": null,
      "outputs": []
    }
  ]
}