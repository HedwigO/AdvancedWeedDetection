{
  "nbformat": 4,
  "nbformat_minor": 0,
  "metadata": {
    "colab": {
      "provenance": [],
      "machine_shape": "hm",
      "gpuType": "A100"
    },
    "kernelspec": {
      "name": "python3",
      "display_name": "Python 3"
    },
    "language_info": {
      "name": "python"
    },
    "accelerator": "GPU"
  },
  "cells": [
    {
      "cell_type": "code",
      "execution_count": null,
      "metadata": {
        "id": "BjiarMyg-8Ob"
      },
      "outputs": [],
      "source": [
        "import numpy as np\n",
        "import pandas as pd\n",
        "import os\n",
        "import cv2\n",
        "from sklearn.model_selection import train_test_split\n",
        "from tensorflow.keras.models import Sequential\n",
        "from tensorflow.keras.layers import Conv2D, MaxPooling2D, Flatten, Dense\n",
        "from tensorflow.keras.utils import to_categorical\n",
        "import albumentations as A"
      ]
    },
    {
      "cell_type": "code",
      "source": [
        "# Define function to apply weather effects\n",
        "def apply_weather_effect(image, effect_type=\"rain\"):\n",
        "    if effect_type == \"rain\":\n",
        "        transform = A.RandomRain(brightness_coefficient=0.9, drop_width=1, blur_value=3, p=1)\n",
        "    elif effect_type == \"snow\":\n",
        "        transform = A.RandomSnow(brightness_coeff=2.5, snow_point_lower=0.3, snow_point_upper=0.5, p=1)\n",
        "    return transform(image=image)['image']"
      ],
      "metadata": {
        "id": "krpYGEYo_Xqa"
      },
      "execution_count": null,
      "outputs": []
    },
    {
      "cell_type": "code",
      "source": [
        "from google.colab import drive\n",
        "drive.mount('/content/drive')"
      ],
      "metadata": {
        "colab": {
          "base_uri": "https://localhost:8080/"
        },
        "id": "RS3PgZ_oAUDg",
        "outputId": "353754cc-6dca-443d-f648-e5dd1789d0f0"
      },
      "execution_count": null,
      "outputs": [
        {
          "output_type": "stream",
          "name": "stdout",
          "text": [
            "Mounted at /content/drive\n"
          ]
        }
      ]
    },
    {
      "cell_type": "code",
      "source": [
        "# Load dataset\n",
        "image_data_dir = \"/content/drive/My Drive/CNN/Dataset/train_images\"\n",
        "image_filenames = os.listdir(image_data_dir)\n",
        "labels_data = pd.read_csv(\"/content/drive/My Drive/CNN/Dataset/labels.csv\")\n",
        "\n",
        "# Preprocess and separate original and augmented data\n",
        "original_images = []\n",
        "augmented_images = []\n",
        "original_labels = []\n",
        "augmented_labels = []\n",
        "\n",
        "for filename in image_filenames:\n",
        "    image_path = os.path.join(image_data_dir, filename)\n",
        "    image = cv2.imread(image_path)\n",
        "    image = cv2.cvtColor(image, cv2.COLOR_BGR2RGB) if image is not None else None\n",
        "    if image is not None and filename in labels_data['image_filename'].values:\n",
        "        label = labels_data[labels_data['image_filename'] == filename]['label'].iloc[0]\n",
        "        original_images.append(image)\n",
        "        original_labels.append(label)\n",
        "\n",
        "        # Randomly decide to augment with weather effects\n",
        "        if np.random.rand() < 0.5:  # 50% chance to augment\n",
        "            effect_type = np.random.choice([\"rain\", \"snow\"])\n",
        "            aug_image = apply_weather_effect(image, effect_type=effect_type)\n",
        "            augmented_images.append(aug_image)\n",
        "            augmented_labels.append(label)"
      ],
      "metadata": {
        "id": "FKUqG7aX_cQt"
      },
      "execution_count": null,
      "outputs": []
    },
    {
      "cell_type": "code",
      "source": [
        "# Convert lists to arrays\n",
        "X_original = np.array(original_images)\n",
        "y_original = to_categorical(np.array(original_labels))\n",
        "X_augmented = np.array(augmented_images)\n",
        "y_augmented = to_categorical(np.array(augmented_labels))\n",
        "\n",
        "# Combine original and augmented for validation and testing\n",
        "X_combined = np.concatenate((X_original, X_augmented))\n",
        "y_combined = np.concatenate((y_original, y_augmented))\n",
        "\n",
        "# Split into training, validation, and test sets\n",
        "X_train_orig, X_temp, y_train_orig, y_temp = train_test_split(X_original, y_original, test_size=0.3, random_state=42)\n",
        "X_val, X_test, y_val, y_test = train_test_split(X_combined, y_combined, test_size=0.5, random_state=42)  # Split combined for validation and testing\n",
        "\n",
        "X_train_aug, _, y_train_aug, _ = train_test_split(X_augmented, y_augmented, test_size=0.3, random_state=42)  # Training set for augmented model"
      ],
      "metadata": {
        "id": "_KIfXhOi_mQR"
      },
      "execution_count": null,
      "outputs": []
    },
    {
      "cell_type": "code",
      "source": [
        "from tensorflow.keras.applications import InceptionResNetV2\n",
        "\n",
        "def create_model(input_shape, num_classes):\n",
        "    base_model = InceptionResNetV2(weights='imagenet', include_top=False, input_shape=input_shape)\n",
        "    for layer in base_model.layers:\n",
        "        layer.trainable = False\n",
        "\n",
        "    model = Sequential([\n",
        "        base_model,\n",
        "        Flatten(),\n",
        "        Dense(64, activation=\"relu\"),\n",
        "        Dense(num_classes, activation=\"softmax\")\n",
        "    ])\n",
        "    model.compile(loss=\"categorical_crossentropy\", optimizer=\"adam\", metrics=[\"accuracy\"])\n",
        "    return model\n"
      ],
      "metadata": {
        "id": "qqB-8MqJJaz8"
      },
      "execution_count": null,
      "outputs": []
    },
    {
      "cell_type": "code",
      "source": [
        "# Create and train baseline model\n",
        "baseline_model = create_model(X_train_orig.shape[1:], y_train_orig.shape[1])\n",
        "baseline_history = baseline_model.fit(X_train_orig, y_train_orig, epochs=40, validation_data=(X_val, y_val))\n"
      ],
      "metadata": {
        "id": "0iMEK6kyNT0E",
        "colab": {
          "base_uri": "https://localhost:8080/"
        },
        "outputId": "4f786146-f3a9-4780-a7d3-f46e976dc288"
      },
      "execution_count": null,
      "outputs": [
        {
          "output_type": "stream",
          "name": "stdout",
          "text": [
            "Downloading data from https://storage.googleapis.com/tensorflow/keras-applications/inception_resnet_v2/inception_resnet_v2_weights_tf_dim_ordering_tf_kernels_notop.h5\n",
            "219055592/219055592 [==============================] - 10s 0us/step\n",
            "Epoch 1/40\n",
            "21/21 [==============================] - 30s 649ms/step - loss: 8124.7388 - accuracy: 0.5148 - val_loss: 0.6925 - val_accuracy: 0.5311\n",
            "Epoch 2/40\n",
            "21/21 [==============================] - 7s 333ms/step - loss: 13.2206 - accuracy: 0.5367 - val_loss: 0.6927 - val_accuracy: 0.5311\n",
            "Epoch 3/40\n",
            "21/21 [==============================] - 7s 332ms/step - loss: 0.6925 - accuracy: 0.5367 - val_loss: 0.6926 - val_accuracy: 0.5311\n",
            "Epoch 4/40\n",
            "21/21 [==============================] - 7s 333ms/step - loss: 0.6924 - accuracy: 0.5367 - val_loss: 0.6924 - val_accuracy: 0.5311\n",
            "Epoch 5/40\n",
            "21/21 [==============================] - 7s 333ms/step - loss: 0.6921 - accuracy: 0.5367 - val_loss: 0.6922 - val_accuracy: 0.5311\n",
            "Epoch 6/40\n",
            "21/21 [==============================] - 7s 333ms/step - loss: 0.6919 - accuracy: 0.5367 - val_loss: 0.6920 - val_accuracy: 0.5311\n",
            "Epoch 7/40\n",
            "21/21 [==============================] - 7s 333ms/step - loss: 0.6916 - accuracy: 0.5367 - val_loss: 0.6919 - val_accuracy: 0.5311\n",
            "Epoch 8/40\n",
            "21/21 [==============================] - 7s 333ms/step - loss: 0.6916 - accuracy: 0.5367 - val_loss: 0.6918 - val_accuracy: 0.5311\n",
            "Epoch 9/40\n",
            "21/21 [==============================] - 7s 333ms/step - loss: 0.6916 - accuracy: 0.5367 - val_loss: 0.6918 - val_accuracy: 0.5311\n",
            "Epoch 10/40\n",
            "21/21 [==============================] - 7s 335ms/step - loss: 0.6914 - accuracy: 0.5367 - val_loss: 0.6917 - val_accuracy: 0.5311\n",
            "Epoch 11/40\n",
            "21/21 [==============================] - 7s 333ms/step - loss: 0.6913 - accuracy: 0.5367 - val_loss: 0.6916 - val_accuracy: 0.5311\n",
            "Epoch 12/40\n",
            "21/21 [==============================] - 7s 333ms/step - loss: 0.6911 - accuracy: 0.5367 - val_loss: 0.6915 - val_accuracy: 0.5311\n",
            "Epoch 13/40\n",
            "21/21 [==============================] - 7s 333ms/step - loss: 0.6911 - accuracy: 0.5367 - val_loss: 0.6915 - val_accuracy: 0.5311\n",
            "Epoch 14/40\n",
            "21/21 [==============================] - 7s 333ms/step - loss: 0.6911 - accuracy: 0.5367 - val_loss: 0.6915 - val_accuracy: 0.5311\n",
            "Epoch 15/40\n",
            "21/21 [==============================] - 7s 333ms/step - loss: 0.6910 - accuracy: 0.5367 - val_loss: 0.6914 - val_accuracy: 0.5311\n",
            "Epoch 16/40\n",
            "21/21 [==============================] - 7s 334ms/step - loss: 0.6910 - accuracy: 0.5367 - val_loss: 0.6914 - val_accuracy: 0.5311\n",
            "Epoch 17/40\n",
            "21/21 [==============================] - 7s 333ms/step - loss: 0.6910 - accuracy: 0.5367 - val_loss: 0.6914 - val_accuracy: 0.5311\n",
            "Epoch 18/40\n",
            "21/21 [==============================] - 7s 333ms/step - loss: 0.6909 - accuracy: 0.5367 - val_loss: 0.6914 - val_accuracy: 0.5311\n",
            "Epoch 19/40\n",
            "21/21 [==============================] - 7s 334ms/step - loss: 0.6909 - accuracy: 0.5367 - val_loss: 0.6914 - val_accuracy: 0.5311\n",
            "Epoch 20/40\n",
            "21/21 [==============================] - 7s 334ms/step - loss: 0.6909 - accuracy: 0.5367 - val_loss: 0.6914 - val_accuracy: 0.5311\n",
            "Epoch 21/40\n",
            "21/21 [==============================] - 7s 333ms/step - loss: 0.6910 - accuracy: 0.5367 - val_loss: 0.6914 - val_accuracy: 0.5311\n",
            "Epoch 22/40\n",
            "21/21 [==============================] - 7s 333ms/step - loss: 0.6909 - accuracy: 0.5367 - val_loss: 0.6914 - val_accuracy: 0.5311\n",
            "Epoch 23/40\n",
            "21/21 [==============================] - 7s 333ms/step - loss: 0.6909 - accuracy: 0.5367 - val_loss: 0.6914 - val_accuracy: 0.5311\n",
            "Epoch 24/40\n",
            "21/21 [==============================] - 7s 332ms/step - loss: 0.6910 - accuracy: 0.5367 - val_loss: 0.6914 - val_accuracy: 0.5311\n",
            "Epoch 25/40\n",
            "21/21 [==============================] - 7s 333ms/step - loss: 0.6909 - accuracy: 0.5367 - val_loss: 0.6914 - val_accuracy: 0.5311\n",
            "Epoch 26/40\n",
            "21/21 [==============================] - 7s 333ms/step - loss: 0.6910 - accuracy: 0.5367 - val_loss: 0.6914 - val_accuracy: 0.5311\n",
            "Epoch 27/40\n",
            "21/21 [==============================] - 7s 333ms/step - loss: 0.6911 - accuracy: 0.5367 - val_loss: 0.6915 - val_accuracy: 0.5311\n",
            "Epoch 28/40\n",
            "21/21 [==============================] - 7s 334ms/step - loss: 0.6911 - accuracy: 0.5367 - val_loss: 0.6915 - val_accuracy: 0.5311\n",
            "Epoch 29/40\n",
            "21/21 [==============================] - 7s 333ms/step - loss: 0.6911 - accuracy: 0.5367 - val_loss: 0.6915 - val_accuracy: 0.5311\n",
            "Epoch 30/40\n",
            "21/21 [==============================] - 7s 334ms/step - loss: 0.6912 - accuracy: 0.5367 - val_loss: 0.6915 - val_accuracy: 0.5311\n",
            "Epoch 31/40\n",
            "21/21 [==============================] - 7s 333ms/step - loss: 0.6912 - accuracy: 0.5367 - val_loss: 0.6916 - val_accuracy: 0.5311\n",
            "Epoch 32/40\n",
            "21/21 [==============================] - 7s 333ms/step - loss: 0.6912 - accuracy: 0.5367 - val_loss: 0.6916 - val_accuracy: 0.5311\n",
            "Epoch 33/40\n",
            "21/21 [==============================] - 7s 333ms/step - loss: 0.6912 - accuracy: 0.5367 - val_loss: 0.6914 - val_accuracy: 0.5311\n",
            "Epoch 34/40\n",
            "21/21 [==============================] - 7s 333ms/step - loss: 0.6909 - accuracy: 0.5367 - val_loss: 0.6913 - val_accuracy: 0.5311\n",
            "Epoch 35/40\n",
            "21/21 [==============================] - 7s 334ms/step - loss: 0.6908 - accuracy: 0.5367 - val_loss: 0.6913 - val_accuracy: 0.5311\n",
            "Epoch 36/40\n",
            "21/21 [==============================] - 7s 333ms/step - loss: 0.6907 - accuracy: 0.5367 - val_loss: 0.6912 - val_accuracy: 0.5311\n",
            "Epoch 37/40\n",
            "21/21 [==============================] - 7s 333ms/step - loss: 0.6906 - accuracy: 0.5367 - val_loss: 0.6912 - val_accuracy: 0.5311\n",
            "Epoch 38/40\n",
            "21/21 [==============================] - 7s 332ms/step - loss: 0.6906 - accuracy: 0.5367 - val_loss: 0.6912 - val_accuracy: 0.5311\n",
            "Epoch 39/40\n",
            "21/21 [==============================] - 7s 333ms/step - loss: 0.6906 - accuracy: 0.5367 - val_loss: 0.6912 - val_accuracy: 0.5311\n",
            "Epoch 40/40\n",
            "21/21 [==============================] - 7s 333ms/step - loss: 0.6906 - accuracy: 0.5367 - val_loss: 0.6912 - val_accuracy: 0.5311\n"
          ]
        }
      ]
    },
    {
      "cell_type": "code",
      "source": [
        "# Create and train augmented model\n",
        "augmented_model = create_model(X_train_aug.shape[1:], y_train_aug.shape[1])\n",
        "augmented_history = augmented_model.fit(X_train_aug, y_train_aug, epochs=40, validation_data=(X_val, y_val))\n"
      ],
      "metadata": {
        "id": "xfL48_-5BBgX",
        "colab": {
          "base_uri": "https://localhost:8080/"
        },
        "outputId": "460b4cff-a075-409e-ce6c-9a82b213e5f6"
      },
      "execution_count": null,
      "outputs": [
        {
          "output_type": "stream",
          "name": "stdout",
          "text": [
            "Epoch 1/40\n",
            "10/10 [==============================] - 22s 1s/step - loss: 12911.2266 - accuracy: 0.4984 - val_loss: 0.7138 - val_accuracy: 0.5296\n",
            "Epoch 2/40\n",
            "10/10 [==============================] - 5s 547ms/step - loss: 0.7388 - accuracy: 0.5541 - val_loss: 0.6928 - val_accuracy: 0.5311\n",
            "Epoch 3/40\n",
            "10/10 [==============================] - 5s 545ms/step - loss: 0.6923 - accuracy: 0.5574 - val_loss: 0.6926 - val_accuracy: 0.5311\n",
            "Epoch 4/40\n",
            "10/10 [==============================] - 5s 546ms/step - loss: 0.6920 - accuracy: 0.5574 - val_loss: 0.6925 - val_accuracy: 0.5311\n",
            "Epoch 5/40\n",
            "10/10 [==============================] - 5s 545ms/step - loss: 0.6917 - accuracy: 0.5574 - val_loss: 0.6923 - val_accuracy: 0.5311\n",
            "Epoch 6/40\n",
            "10/10 [==============================] - 5s 545ms/step - loss: 0.6914 - accuracy: 0.5574 - val_loss: 0.6922 - val_accuracy: 0.5311\n",
            "Epoch 7/40\n",
            "10/10 [==============================] - 5s 545ms/step - loss: 0.6911 - accuracy: 0.5574 - val_loss: 0.6921 - val_accuracy: 0.5311\n",
            "Epoch 8/40\n",
            "10/10 [==============================] - 5s 546ms/step - loss: 0.6909 - accuracy: 0.5574 - val_loss: 0.6919 - val_accuracy: 0.5311\n",
            "Epoch 9/40\n",
            "10/10 [==============================] - 5s 546ms/step - loss: 0.6906 - accuracy: 0.5574 - val_loss: 0.6919 - val_accuracy: 0.5311\n",
            "Epoch 10/40\n",
            "10/10 [==============================] - 5s 546ms/step - loss: 0.6904 - accuracy: 0.5574 - val_loss: 0.6918 - val_accuracy: 0.5311\n",
            "Epoch 11/40\n",
            "10/10 [==============================] - 5s 545ms/step - loss: 0.6902 - accuracy: 0.5574 - val_loss: 0.6917 - val_accuracy: 0.5311\n",
            "Epoch 12/40\n",
            "10/10 [==============================] - 5s 545ms/step - loss: 0.6899 - accuracy: 0.5574 - val_loss: 0.6916 - val_accuracy: 0.5311\n",
            "Epoch 13/40\n",
            "10/10 [==============================] - 5s 545ms/step - loss: 0.6897 - accuracy: 0.5574 - val_loss: 0.6915 - val_accuracy: 0.5311\n",
            "Epoch 14/40\n",
            "10/10 [==============================] - 5s 547ms/step - loss: 0.6895 - accuracy: 0.5574 - val_loss: 0.6915 - val_accuracy: 0.5311\n",
            "Epoch 15/40\n",
            "10/10 [==============================] - 5s 545ms/step - loss: 0.6892 - accuracy: 0.5574 - val_loss: 0.6914 - val_accuracy: 0.5311\n",
            "Epoch 16/40\n",
            "10/10 [==============================] - 5s 546ms/step - loss: 0.6890 - accuracy: 0.5574 - val_loss: 0.6913 - val_accuracy: 0.5311\n",
            "Epoch 17/40\n",
            "10/10 [==============================] - 5s 546ms/step - loss: 0.6889 - accuracy: 0.5574 - val_loss: 0.6913 - val_accuracy: 0.5311\n",
            "Epoch 18/40\n",
            "10/10 [==============================] - 5s 545ms/step - loss: 0.6886 - accuracy: 0.5574 - val_loss: 0.6913 - val_accuracy: 0.5311\n",
            "Epoch 19/40\n",
            "10/10 [==============================] - 5s 547ms/step - loss: 0.6885 - accuracy: 0.5574 - val_loss: 0.6912 - val_accuracy: 0.5311\n",
            "Epoch 20/40\n",
            "10/10 [==============================] - 5s 546ms/step - loss: 0.6884 - accuracy: 0.5574 - val_loss: 0.6912 - val_accuracy: 0.5311\n",
            "Epoch 21/40\n",
            "10/10 [==============================] - 5s 546ms/step - loss: 0.6881 - accuracy: 0.5574 - val_loss: 0.6912 - val_accuracy: 0.5311\n",
            "Epoch 22/40\n",
            "10/10 [==============================] - 5s 547ms/step - loss: 0.6880 - accuracy: 0.5574 - val_loss: 0.6912 - val_accuracy: 0.5311\n",
            "Epoch 23/40\n",
            "10/10 [==============================] - 5s 545ms/step - loss: 0.6879 - accuracy: 0.5574 - val_loss: 0.6912 - val_accuracy: 0.5311\n",
            "Epoch 24/40\n",
            "10/10 [==============================] - 5s 546ms/step - loss: 0.6878 - accuracy: 0.5574 - val_loss: 0.6912 - val_accuracy: 0.5311\n",
            "Epoch 25/40\n",
            "10/10 [==============================] - 5s 545ms/step - loss: 0.6877 - accuracy: 0.5574 - val_loss: 0.6912 - val_accuracy: 0.5311\n",
            "Epoch 26/40\n",
            "10/10 [==============================] - 5s 545ms/step - loss: 0.6876 - accuracy: 0.5574 - val_loss: 0.6913 - val_accuracy: 0.5311\n",
            "Epoch 27/40\n",
            "10/10 [==============================] - 5s 546ms/step - loss: 0.6875 - accuracy: 0.5574 - val_loss: 0.6913 - val_accuracy: 0.5311\n",
            "Epoch 28/40\n",
            "10/10 [==============================] - 5s 545ms/step - loss: 0.6874 - accuracy: 0.5574 - val_loss: 0.6913 - val_accuracy: 0.5311\n",
            "Epoch 29/40\n",
            "10/10 [==============================] - 5s 549ms/step - loss: 0.6873 - accuracy: 0.5574 - val_loss: 0.6913 - val_accuracy: 0.5311\n",
            "Epoch 30/40\n",
            "10/10 [==============================] - 5s 545ms/step - loss: 0.6872 - accuracy: 0.5574 - val_loss: 0.6914 - val_accuracy: 0.5311\n",
            "Epoch 31/40\n",
            "10/10 [==============================] - 5s 545ms/step - loss: 0.6872 - accuracy: 0.5574 - val_loss: 0.6914 - val_accuracy: 0.5311\n",
            "Epoch 32/40\n",
            "10/10 [==============================] - 5s 544ms/step - loss: 0.6871 - accuracy: 0.5574 - val_loss: 0.6914 - val_accuracy: 0.5311\n",
            "Epoch 33/40\n",
            "10/10 [==============================] - 5s 545ms/step - loss: 0.6871 - accuracy: 0.5574 - val_loss: 0.6915 - val_accuracy: 0.5311\n",
            "Epoch 34/40\n",
            "10/10 [==============================] - 5s 544ms/step - loss: 0.6870 - accuracy: 0.5574 - val_loss: 0.6915 - val_accuracy: 0.5311\n",
            "Epoch 35/40\n",
            "10/10 [==============================] - 5s 546ms/step - loss: 0.6870 - accuracy: 0.5574 - val_loss: 0.6915 - val_accuracy: 0.5311\n",
            "Epoch 36/40\n",
            "10/10 [==============================] - 5s 546ms/step - loss: 0.6869 - accuracy: 0.5574 - val_loss: 0.6916 - val_accuracy: 0.5311\n",
            "Epoch 37/40\n",
            "10/10 [==============================] - 5s 545ms/step - loss: 0.6869 - accuracy: 0.5574 - val_loss: 0.6916 - val_accuracy: 0.5311\n",
            "Epoch 38/40\n",
            "10/10 [==============================] - 5s 546ms/step - loss: 0.6869 - accuracy: 0.5574 - val_loss: 0.6916 - val_accuracy: 0.5311\n",
            "Epoch 39/40\n",
            "10/10 [==============================] - 5s 545ms/step - loss: 0.6868 - accuracy: 0.5574 - val_loss: 0.6917 - val_accuracy: 0.5311\n",
            "Epoch 40/40\n",
            "10/10 [==============================] - 5s 545ms/step - loss: 0.6868 - accuracy: 0.5574 - val_loss: 0.6917 - val_accuracy: 0.5311\n"
          ]
        }
      ]
    },
    {
      "cell_type": "code",
      "source": [
        "import matplotlib.pyplot as plt\n",
        "plt.plot(baseline_history.history['accuracy'], label='Baseline Training Accuracy')\n",
        "plt.plot(baseline_history.history['val_accuracy'], label='Baseline Validation Accuracy')\n",
        "plt.plot(augmented_history.history['accuracy'], label='Augmented Training Accuracy')\n",
        "plt.plot(augmented_history.history['val_accuracy'], label='Augmented Validation Accuracy')\n",
        "plt.xlabel('Epoch')\n",
        "plt.ylabel('Accuracy')\n",
        "plt.title('Training and Validation Accuracy (InceptionResNetV2)')\n",
        "plt.legend()\n",
        "plt.show()"
      ],
      "metadata": {
        "id": "wKxXt_fONJmj",
        "colab": {
          "base_uri": "https://localhost:8080/",
          "height": 472
        },
        "outputId": "d10dd602-887a-425b-dce5-909bdb525a86"
      },
      "execution_count": null,
      "outputs": [
        {
          "output_type": "display_data",
          "data": {
            "text/plain": [
              "<Figure size 640x480 with 1 Axes>"
            ],
            "image/png": "[encoded data removed]"
          },
          "metadata": {}
        }
      ]
    },
    {
      "cell_type": "code",
      "source": [
        "# Evaluate both models on the test set\n",
        "baseline_score = baseline_model.evaluate(X_test, y_test, verbose=0)\n",
        "augmented_score = augmented_model.evaluate(X_test, y_test, verbose=0)\n",
        "print(\"Baseline Model - Test loss:\", baseline_score[0], \"Test accuracy:\", baseline_score[1])\n",
        "print(\"Augmented Model - Test loss:\", augmented_score[0], \"Test accuracy:\", augmented_score[1])"
      ],
      "metadata": {
        "id": "MTEltm3SBC9F",
        "colab": {
          "base_uri": "https://localhost:8080/"
        },
        "outputId": "51dd1f74-f6c7-4bdd-b3e4-be5c90cf719d"
      },
      "execution_count": null,
      "outputs": [
        {
          "output_type": "stream",
          "name": "stdout",
          "text": [
            "Baseline Model - Test loss: 0.6880744695663452 Test accuracy: 0.557692289352417\n",
            "Augmented Model - Test loss: 0.6866962313652039 Test accuracy: 0.557692289352417\n"
          ]
        }
      ]
    }
  ]
}