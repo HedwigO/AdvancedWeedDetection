{
  "nbformat": 4,
  "nbformat_minor": 0,
  "metadata": {
    "colab": {
      "provenance": [],
      "machine_shape": "hm",
      "gpuType": "A100"
    },
    "kernelspec": {
      "name": "python3",
      "display_name": "Python 3"
    },
    "language_info": {
      "name": "python"
    },
    "accelerator": "GPU"
  },
  "cells": [
    {
      "cell_type": "code",
      "execution_count": null,
      "metadata": {
        "id": "BjiarMyg-8Ob"
      },
      "outputs": [],
      "source": [
        "import numpy as np\n",
        "import pandas as pd\n",
        "import os\n",
        "import cv2\n",
        "from sklearn.model_selection import train_test_split\n",
        "from tensorflow.keras.models import Sequential\n",
        "from tensorflow.keras.layers import Conv2D, MaxPooling2D, Flatten, Dense\n",
        "from tensorflow.keras.utils import to_categorical\n",
        "import albumentations as A"
      ]
    },
    {
      "cell_type": "code",
      "source": [
        "# Define function to apply weather effects\n",
        "def apply_weather_effect(image, effect_type=\"rain\"):\n",
        "    if effect_type == \"rain\":\n",
        "        transform = A.RandomRain(brightness_coefficient=0.9, drop_width=1, blur_value=3, p=1)\n",
        "    elif effect_type == \"snow\":\n",
        "        transform = A.RandomSnow(brightness_coeff=2.5, snow_point_lower=0.3, snow_point_upper=0.5, p=1)\n",
        "    return transform(image=image)['image']"
      ],
      "metadata": {
        "id": "krpYGEYo_Xqa"
      },
      "execution_count": null,
      "outputs": []
    },
    {
      "cell_type": "code",
      "source": [
        "from google.colab import drive\n",
        "drive.mount('/content/drive')"
      ],
      "metadata": {
        "colab": {
          "base_uri": "https://localhost:8080/"
        },
        "id": "RS3PgZ_oAUDg",
        "outputId": "25e81cef-af79-44ee-d3a4-748b07ad3483"
      },
      "execution_count": null,
      "outputs": [
        {
          "output_type": "stream",
          "name": "stdout",
          "text": [
            "Drive already mounted at /content/drive; to attempt to forcibly remount, call drive.mount(\"/content/drive\", force_remount=True).\n"
          ]
        }
      ]
    },
    {
      "cell_type": "code",
      "source": [
        "# Load dataset\n",
        "image_data_dir = \"/content/drive/My Drive/CNN/Dataset/train_images\"\n",
        "image_filenames = os.listdir(image_data_dir)\n",
        "labels_data = pd.read_csv(\"/content/drive/My Drive/CNN/Dataset/labels.csv\")\n",
        "\n",
        "# Preprocess and separate original and augmented data\n",
        "original_images = []\n",
        "augmented_images = []\n",
        "original_labels = []\n",
        "augmented_labels = []\n",
        "\n",
        "for filename in image_filenames:\n",
        "    image_path = os.path.join(image_data_dir, filename)\n",
        "    image = cv2.imread(image_path)\n",
        "    image = cv2.cvtColor(image, cv2.COLOR_BGR2RGB) if image is not None else None\n",
        "    if image is not None and filename in labels_data['image_filename'].values:\n",
        "        label = labels_data[labels_data['image_filename'] == filename]['label'].iloc[0]\n",
        "        original_images.append(image)\n",
        "        original_labels.append(label)\n",
        "\n",
        "        # Randomly decide to augment with weather effects\n",
        "        if np.random.rand() < 0.5:  # 50% chance to augment\n",
        "            effect_type = np.random.choice([\"rain\", \"snow\"])\n",
        "            aug_image = apply_weather_effect(image, effect_type=effect_type)\n",
        "            augmented_images.append(aug_image)\n",
        "            augmented_labels.append(label)"
      ],
      "metadata": {
        "id": "FKUqG7aX_cQt"
      },
      "execution_count": null,
      "outputs": []
    },
    {
      "cell_type": "code",
      "source": [
        "# Convert lists to arrays\n",
        "X_original = np.array(original_images)\n",
        "y_original = to_categorical(np.array(original_labels))\n",
        "X_augmented = np.array(augmented_images)\n",
        "y_augmented = to_categorical(np.array(augmented_labels))\n",
        "\n",
        "# Combine original and augmented for validation and testing\n",
        "X_combined = np.concatenate((X_original, X_augmented))\n",
        "y_combined = np.concatenate((y_original, y_augmented))\n",
        "\n",
        "# Split into training, validation, and test sets\n",
        "X_train_orig, X_temp, y_train_orig, y_temp = train_test_split(X_original, y_original, test_size=0.3, random_state=42)\n",
        "X_val, X_test, y_val, y_test = train_test_split(X_combined, y_combined, test_size=0.5, random_state=42)  # Split combined for validation and testing\n",
        "\n",
        "X_train_aug, _, y_train_aug, _ = train_test_split(X_augmented, y_augmented, test_size=0.3, random_state=42)  # Training set for augmented model"
      ],
      "metadata": {
        "id": "_KIfXhOi_mQR"
      },
      "execution_count": null,
      "outputs": []
    },
    {
      "cell_type": "code",
      "source": [
        "from tensorflow.keras.applications import ResNet50\n",
        "\n",
        "# Define the model building function\n",
        "def create_model(hp):\n",
        "    base_model = ResNet50(weights='imagenet', include_top=False, input_shape=X_train_orig[0].shape)\n",
        "    for layer in base_model.layers:\n",
        "        layer.trainable = False\n",
        "\n",
        "    model = Sequential([\n",
        "        base_model,\n",
        "        Flatten(),\n",
        "        Dense(hp.Int('units', min_value=32, max_value=256, step=32), activation=hp.Choice('activation', values=['relu', 'tanh'])),\n",
        "        Dense(y_train_orig.shape[1], activation=\"softmax\")\n",
        "    ])\n",
        "    model.compile(\n",
        "        loss=\"categorical_crossentropy\",\n",
        "        optimizer=hp.Choice('optimizer', values=['adam', 'rmsprop', 'sgd']),\n",
        "        metrics=[\"accuracy\"]\n",
        "    )\n",
        "    return model"
      ],
      "metadata": {
        "id": "euC3D9wfuNyP"
      },
      "execution_count": null,
      "outputs": []
    },
    {
      "cell_type": "code",
      "source": [
        "from keras_tuner import HyperParameters, BayesianOptimization\n",
        "\n",
        "# Initialize Bayesian optimization\n",
        "tuner = BayesianOptimization(\n",
        "    create_model,\n",
        "    objective='val_accuracy',\n",
        "    max_trials=10,\n",
        "    directory='resnet_tuner',\n",
        "    project_name='bayesian_search'\n",
        ")\n"
      ],
      "metadata": {
        "id": "2W4STXB69EfX"
      },
      "execution_count": null,
      "outputs": []
    },
    {
      "cell_type": "code",
      "source": [
        "# Run the tuner search\n",
        "tuner.search(X_train_orig, y_train_orig, epochs=10, validation_data=(X_val, y_val))\n"
      ],
      "metadata": {
        "colab": {
          "base_uri": "https://localhost:8080/"
        },
        "id": "1ixbkl8p-O1_",
        "outputId": "9e95590b-a965-45b6-f5e1-dea6fca71db6"
      },
      "execution_count": null,
      "outputs": [
        {
          "output_type": "stream",
          "name": "stdout",
          "text": [
            "Trial 10 Complete [00h 00m 55s]\n",
            "val_accuracy: 0.9293948411941528\n",
            "\n",
            "Best val_accuracy So Far: 0.9351584911346436\n",
            "Total elapsed time: 00h 08m 44s\n"
          ]
        }
      ]
    },
    {
      "cell_type": "code",
      "source": [
        "# Get the best hyperparameters\n",
        "best_hps = tuner.get_best_hyperparameters(num_trials=1)[0]\n",
        "\n",
        "print(f\"\"\"\n",
        "The best hyperparameters are:\n",
        "- Units: {best_hps.get('units')}\n",
        "- Activation: {best_hps.get('activation')}\n",
        "- Optimizer: {best_hps.get('optimizer')}\n",
        "\"\"\")"
      ],
      "metadata": {
        "colab": {
          "base_uri": "https://localhost:8080/"
        },
        "id": "p_bdTg5q-Ppt",
        "outputId": "cf1d8951-f883-4c34-fde5-9008eca5982a"
      },
      "execution_count": null,
      "outputs": [
        {
          "output_type": "stream",
          "name": "stdout",
          "text": [
            "\n",
            "The best hyperparameters are:\n",
            "- Units: 128\n",
            "- Activation: relu\n",
            "- Optimizer: rmsprop\n",
            "\n"
          ]
        }
      ]
    },
    {
      "cell_type": "code",
      "source": [
        "# Fetch the best model\n",
        "best_model = tuner.get_best_models(num_models=1)[0]\n",
        "\n",
        "# Fetch a summary of the trials\n",
        "trials = tuner.oracle.get_best_trials(num_trials=10)\n",
        "\n",
        "val_accuracies = [trial.score for trial in trials if trial.score is not None]\n",
        "trial_ids = [trial.trial_id for trial in trials if trial.score is not None]\n"
      ],
      "metadata": {
        "id": "vMRmo--7BNbL"
      },
      "execution_count": null,
      "outputs": []
    },
    {
      "cell_type": "code",
      "source": [
        "import matplotlib.pyplot as plt\n",
        "\n",
        "plt.figure(figsize=(5, 5))\n",
        "plt.bar(trial_ids, val_accuracies, color='dodgerblue')\n",
        "plt.xlabel('Trial ID')\n",
        "plt.ylabel('Best Validation Accuracy')\n",
        "plt.title('Best Validation Accuracy per Trial')\n",
        "plt.xticks(rotation=45)\n",
        "plt.show()"
      ],
      "metadata": {
        "colab": {
          "base_uri": "https://localhost:8080/",
          "height": 495
        },
        "id": "2wRhW5yIB4PB",
        "outputId": "eed8aeab-3a3f-4b99-8719-5e53ce4c911d"
      },
      "execution_count": null,
      "outputs": [
        {
          "output_type": "display_data",
          "data": {
            "text/plain": [
              "<Figure size 500x500 with 1 Axes>"
            ],
            "image/png": "[encoded data removed]"
          },
          "metadata": {}
        }
      ]
    },
    {
      "cell_type": "code",
      "source": [
        "# Evaluate the best model on the test set\n",
        "bayesian_search_score = best_model.evaluate(X_test, y_test, verbose=0)\n",
        "print(\"Bayesian Search Model - Test loss:\", bayesian_search_score[0], \"Test accuracy:\", bayesian_search_score[1])"
      ],
      "metadata": {
        "colab": {
          "base_uri": "https://localhost:8080/"
        },
        "id": "inY-_qkI-SNZ",
        "outputId": "181f6d81-14b8-464f-9209-dd36701d1355"
      },
      "execution_count": null,
      "outputs": [
        {
          "output_type": "stream",
          "name": "stdout",
          "text": [
            "Bayesian Search Model - Test loss: 4.753904819488525 Test accuracy: 0.9351584911346436\n"
          ]
        }
      ]
    },
    {
      "cell_type": "code",
      "source": [
        "def create_model(input_shape, num_classes):\n",
        "    base_model = ResNet50(weights='imagenet', include_top=False, input_shape=input_shape)\n",
        "    for layer in base_model.layers:\n",
        "        layer.trainable = False\n",
        "\n",
        "    model = Sequential([\n",
        "        base_model,\n",
        "        Flatten(),\n",
        "        Dense(64, activation=\"relu\"),\n",
        "        Dense(num_classes, activation=\"softmax\")\n",
        "    ])\n",
        "    model.compile(loss=\"categorical_crossentropy\", optimizer=\"adam\", metrics=[\"accuracy\"])\n",
        "    return model"
      ],
      "metadata": {
        "id": "4UXPVHNmcHXR"
      },
      "execution_count": null,
      "outputs": []
    },
    {
      "cell_type": "code",
      "source": [
        "# Create and train baseline model\n",
        "baseline_model = create_model(X_train_orig.shape[1:], y_train_orig.shape[1])\n",
        "baseline_history = baseline_model.fit(X_train_orig, y_train_orig, epochs=40, validation_data=(X_val, y_val))\n"
      ],
      "metadata": {
        "colab": {
          "base_uri": "https://localhost:8080/"
        },
        "id": "GOlK3i4pcJYw",
        "outputId": "ef2676b3-f462-4e65-90a9-65619d4b5677"
      },
      "execution_count": null,
      "outputs": [
        {
          "output_type": "stream",
          "name": "stdout",
          "text": [
            "Epoch 1/40\n",
            "\u001b[1m21/21\u001b[0m \u001b[32m━━━━━━━━━━━━━━━━━━━━\u001b[0m\u001b[37m\u001b[0m \u001b[1m20s\u001b[0m 546ms/step - accuracy: 0.7831 - loss: 11.6618 - val_accuracy: 0.9135 - val_loss: 12.0802\n",
            "Epoch 2/40\n",
            "\u001b[1m21/21\u001b[0m \u001b[32m━━━━━━━━━━━━━━━━━━━━\u001b[0m\u001b[37m\u001b[0m \u001b[1m2s\u001b[0m 106ms/step - accuracy: 0.9668 - loss: 1.1067 - val_accuracy: 0.9006 - val_loss: 7.9494\n",
            "Epoch 3/40\n",
            "\u001b[1m21/21\u001b[0m \u001b[32m━━━━━━━━━━━━━━━━━━━━\u001b[0m\u001b[37m\u001b[0m \u001b[1m2s\u001b[0m 105ms/step - accuracy: 0.9848 - loss: 0.3313 - val_accuracy: 0.9380 - val_loss: 2.1863\n",
            "Epoch 4/40\n",
            "\u001b[1m21/21\u001b[0m \u001b[32m━━━━━━━━━━━━━━━━━━━━\u001b[0m\u001b[37m\u001b[0m \u001b[1m2s\u001b[0m 105ms/step - accuracy: 0.9937 - loss: 0.0517 - val_accuracy: 0.9035 - val_loss: 5.6140\n",
            "Epoch 5/40\n",
            "\u001b[1m21/21\u001b[0m \u001b[32m━━━━━━━━━━━━━━━━━━━━\u001b[0m\u001b[37m\u001b[0m \u001b[1m2s\u001b[0m 106ms/step - accuracy: 0.9966 - loss: 0.0403 - val_accuracy: 0.9251 - val_loss: 3.2887\n",
            "Epoch 6/40\n",
            "\u001b[1m21/21\u001b[0m \u001b[32m━━━━━━━━━━━━━━━━━━━━\u001b[0m\u001b[37m\u001b[0m \u001b[1m2s\u001b[0m 105ms/step - accuracy: 0.9960 - loss: 0.0435 - val_accuracy: 0.9063 - val_loss: 6.7007\n",
            "Epoch 7/40\n",
            "\u001b[1m21/21\u001b[0m \u001b[32m━━━━━━━━━━━━━━━━━━━━\u001b[0m\u001b[37m\u001b[0m \u001b[1m2s\u001b[0m 106ms/step - accuracy: 0.9941 - loss: 0.2512 - val_accuracy: 0.9236 - val_loss: 4.7507\n",
            "Epoch 8/40\n",
            "\u001b[1m21/21\u001b[0m \u001b[32m━━━━━━━━━━━━━━━━━━━━\u001b[0m\u001b[37m\u001b[0m \u001b[1m2s\u001b[0m 105ms/step - accuracy: 0.9992 - loss: 0.0084 - val_accuracy: 0.9150 - val_loss: 5.8603\n",
            "Epoch 9/40\n",
            "\u001b[1m21/21\u001b[0m \u001b[32m━━━━━━━━━━━━━━━━━━━━\u001b[0m\u001b[37m\u001b[0m \u001b[1m2s\u001b[0m 106ms/step - accuracy: 0.9987 - loss: 0.0111 - val_accuracy: 0.9107 - val_loss: 6.6767\n",
            "Epoch 10/40\n",
            "\u001b[1m21/21\u001b[0m \u001b[32m━━━━━━━━━━━━━━━━━━━━\u001b[0m\u001b[37m\u001b[0m \u001b[1m2s\u001b[0m 105ms/step - accuracy: 0.9946 - loss: 0.0072 - val_accuracy: 0.9020 - val_loss: 8.1089\n",
            "Epoch 11/40\n",
            "\u001b[1m21/21\u001b[0m \u001b[32m━━━━━━━━━━━━━━━━━━━━\u001b[0m\u001b[37m\u001b[0m \u001b[1m2s\u001b[0m 105ms/step - accuracy: 1.0000 - loss: 2.0271e-04 - val_accuracy: 0.8991 - val_loss: 8.5852\n",
            "Epoch 12/40\n",
            "\u001b[1m21/21\u001b[0m \u001b[32m━━━━━━━━━━━━━━━━━━━━\u001b[0m\u001b[37m\u001b[0m \u001b[1m2s\u001b[0m 104ms/step - accuracy: 1.0000 - loss: 5.5751e-04 - val_accuracy: 0.8991 - val_loss: 8.4344\n",
            "Epoch 13/40\n",
            "\u001b[1m21/21\u001b[0m \u001b[32m━━━━━━━━━━━━━━━━━━━━\u001b[0m\u001b[37m\u001b[0m \u001b[1m2s\u001b[0m 105ms/step - accuracy: 1.0000 - loss: 1.4833e-04 - val_accuracy: 0.8991 - val_loss: 8.4076\n",
            "Epoch 14/40\n",
            "\u001b[1m21/21\u001b[0m \u001b[32m━━━━━━━━━━━━━━━━━━━━\u001b[0m\u001b[37m\u001b[0m \u001b[1m2s\u001b[0m 106ms/step - accuracy: 1.0000 - loss: 7.5585e-04 - val_accuracy: 0.8991 - val_loss: 8.4035\n",
            "Epoch 15/40\n",
            "\u001b[1m21/21\u001b[0m \u001b[32m━━━━━━━━━━━━━━━━━━━━\u001b[0m\u001b[37m\u001b[0m \u001b[1m2s\u001b[0m 109ms/step - accuracy: 1.0000 - loss: 1.4847e-04 - val_accuracy: 0.8991 - val_loss: 8.4021\n",
            "Epoch 16/40\n",
            "\u001b[1m21/21\u001b[0m \u001b[32m━━━━━━━━━━━━━━━━━━━━\u001b[0m\u001b[37m\u001b[0m \u001b[1m2s\u001b[0m 107ms/step - accuracy: 1.0000 - loss: 8.5258e-04 - val_accuracy: 0.8991 - val_loss: 8.4016\n",
            "Epoch 17/40\n",
            "\u001b[1m21/21\u001b[0m \u001b[32m━━━━━━━━━━━━━━━━━━━━\u001b[0m\u001b[37m\u001b[0m \u001b[1m2s\u001b[0m 107ms/step - accuracy: 1.0000 - loss: 3.7209e-04 - val_accuracy: 0.8991 - val_loss: 8.4007\n",
            "Epoch 18/40\n",
            "\u001b[1m21/21\u001b[0m \u001b[32m━━━━━━━━━━━━━━━━━━━━\u001b[0m\u001b[37m\u001b[0m \u001b[1m2s\u001b[0m 106ms/step - accuracy: 1.0000 - loss: 0.0012 - val_accuracy: 0.8991 - val_loss: 8.3990\n",
            "Epoch 19/40\n",
            "\u001b[1m21/21\u001b[0m \u001b[32m━━━━━━━━━━━━━━━━━━━━\u001b[0m\u001b[37m\u001b[0m \u001b[1m2s\u001b[0m 105ms/step - accuracy: 1.0000 - loss: 0.0016 - val_accuracy: 0.8991 - val_loss: 8.3982\n",
            "Epoch 20/40\n",
            "\u001b[1m21/21\u001b[0m \u001b[32m━━━━━━━━━━━━━━━━━━━━\u001b[0m\u001b[37m\u001b[0m \u001b[1m2s\u001b[0m 106ms/step - accuracy: 1.0000 - loss: 3.7136e-04 - val_accuracy: 0.8991 - val_loss: 8.3973\n",
            "Epoch 21/40\n",
            "\u001b[1m21/21\u001b[0m \u001b[32m━━━━━━━━━━━━━━━━━━━━\u001b[0m\u001b[37m\u001b[0m \u001b[1m2s\u001b[0m 107ms/step - accuracy: 1.0000 - loss: 4.3611e-04 - val_accuracy: 0.8991 - val_loss: 8.3962\n",
            "Epoch 22/40\n",
            "\u001b[1m21/21\u001b[0m \u001b[32m━━━━━━━━━━━━━━━━━━━━\u001b[0m\u001b[37m\u001b[0m \u001b[1m2s\u001b[0m 106ms/step - accuracy: 1.0000 - loss: 1.9876e-04 - val_accuracy: 0.8991 - val_loss: 8.3951\n",
            "Epoch 23/40\n",
            "\u001b[1m21/21\u001b[0m \u001b[32m━━━━━━━━━━━━━━━━━━━━\u001b[0m\u001b[37m\u001b[0m \u001b[1m2s\u001b[0m 106ms/step - accuracy: 1.0000 - loss: 0.0014 - val_accuracy: 0.8991 - val_loss: 8.3947\n",
            "Epoch 24/40\n",
            "\u001b[1m21/21\u001b[0m \u001b[32m━━━━━━━━━━━━━━━━━━━━\u001b[0m\u001b[37m\u001b[0m \u001b[1m2s\u001b[0m 106ms/step - accuracy: 1.0000 - loss: 4.3501e-04 - val_accuracy: 0.8991 - val_loss: 8.3937\n",
            "Epoch 25/40\n",
            "\u001b[1m21/21\u001b[0m \u001b[32m━━━━━━━━━━━━━━━━━━━━\u001b[0m\u001b[37m\u001b[0m \u001b[1m2s\u001b[0m 106ms/step - accuracy: 1.0000 - loss: 3.6961e-04 - val_accuracy: 0.8991 - val_loss: 8.3930\n",
            "Epoch 26/40\n",
            "\u001b[1m21/21\u001b[0m \u001b[32m━━━━━━━━━━━━━━━━━━━━\u001b[0m\u001b[37m\u001b[0m \u001b[1m2s\u001b[0m 106ms/step - accuracy: 1.0000 - loss: 7.4829e-04 - val_accuracy: 0.8991 - val_loss: 8.3919\n",
            "Epoch 27/40\n",
            "\u001b[1m21/21\u001b[0m \u001b[32m━━━━━━━━━━━━━━━━━━━━\u001b[0m\u001b[37m\u001b[0m \u001b[1m2s\u001b[0m 106ms/step - accuracy: 1.0000 - loss: 1.4653e-04 - val_accuracy: 0.8991 - val_loss: 8.3907\n",
            "Epoch 28/40\n",
            "\u001b[1m21/21\u001b[0m \u001b[32m━━━━━━━━━━━━━━━━━━━━\u001b[0m\u001b[37m\u001b[0m \u001b[1m2s\u001b[0m 105ms/step - accuracy: 1.0000 - loss: 6.5876e-04 - val_accuracy: 0.8991 - val_loss: 8.3896\n",
            "Epoch 29/40\n",
            "\u001b[1m21/21\u001b[0m \u001b[32m━━━━━━━━━━━━━━━━━━━━\u001b[0m\u001b[37m\u001b[0m \u001b[1m2s\u001b[0m 105ms/step - accuracy: 1.0000 - loss: 3.0771e-04 - val_accuracy: 0.8991 - val_loss: 8.3885\n",
            "Epoch 30/40\n",
            "\u001b[1m21/21\u001b[0m \u001b[32m━━━━━━━━━━━━━━━━━━━━\u001b[0m\u001b[37m\u001b[0m \u001b[1m2s\u001b[0m 105ms/step - accuracy: 1.0000 - loss: 0.0036 - val_accuracy: 0.8991 - val_loss: 8.3875\n",
            "Epoch 31/40\n",
            "\u001b[1m21/21\u001b[0m \u001b[32m━━━━━━━━━━━━━━━━━━━━\u001b[0m\u001b[37m\u001b[0m \u001b[1m2s\u001b[0m 105ms/step - accuracy: 1.0000 - loss: 3.0689e-04 - val_accuracy: 0.8991 - val_loss: 8.3868\n",
            "Epoch 32/40\n",
            "\u001b[1m21/21\u001b[0m \u001b[32m━━━━━━━━━━━━━━━━━━━━\u001b[0m\u001b[37m\u001b[0m \u001b[1m2s\u001b[0m 105ms/step - accuracy: 1.0000 - loss: 7.4359e-04 - val_accuracy: 0.8991 - val_loss: 8.3860\n",
            "Epoch 33/40\n",
            "\u001b[1m21/21\u001b[0m \u001b[32m━━━━━━━━━━━━━━━━━━━━\u001b[0m\u001b[37m\u001b[0m \u001b[1m2s\u001b[0m 105ms/step - accuracy: 1.0000 - loss: 3.6675e-04 - val_accuracy: 0.8991 - val_loss: 8.3852\n",
            "Epoch 34/40\n",
            "\u001b[1m21/21\u001b[0m \u001b[32m━━━━━━━━━━━━━━━━━━━━\u001b[0m\u001b[37m\u001b[0m \u001b[1m2s\u001b[0m 105ms/step - accuracy: 1.0000 - loss: 0.0011 - val_accuracy: 0.8991 - val_loss: 8.3844\n",
            "Epoch 35/40\n",
            "\u001b[1m21/21\u001b[0m \u001b[32m━━━━━━━━━━━━━━━━━━━━\u001b[0m\u001b[37m\u001b[0m \u001b[1m2s\u001b[0m 105ms/step - accuracy: 1.0000 - loss: 8.3744e-04 - val_accuracy: 0.8991 - val_loss: 8.3836\n",
            "Epoch 36/40\n",
            "\u001b[1m21/21\u001b[0m \u001b[32m━━━━━━━━━━━━━━━━━━━━\u001b[0m\u001b[37m\u001b[0m \u001b[1m2s\u001b[0m 106ms/step - accuracy: 1.0000 - loss: 2.4855e-04 - val_accuracy: 0.8991 - val_loss: 8.3829\n",
            "Epoch 37/40\n",
            "\u001b[1m21/21\u001b[0m \u001b[32m━━━━━━━━━━━━━━━━━━━━\u001b[0m\u001b[37m\u001b[0m \u001b[1m2s\u001b[0m 105ms/step - accuracy: 1.0000 - loss: 6.5203e-04 - val_accuracy: 0.8991 - val_loss: 8.3820\n",
            "Epoch 38/40\n",
            "\u001b[1m21/21\u001b[0m \u001b[32m━━━━━━━━━━━━━━━━━━━━\u001b[0m\u001b[37m\u001b[0m \u001b[1m2s\u001b[0m 105ms/step - accuracy: 1.0000 - loss: 1.9478e-04 - val_accuracy: 0.8991 - val_loss: 8.3810\n",
            "Epoch 39/40\n",
            "\u001b[1m21/21\u001b[0m \u001b[32m━━━━━━━━━━━━━━━━━━━━\u001b[0m\u001b[37m\u001b[0m \u001b[1m2s\u001b[0m 104ms/step - accuracy: 1.0000 - loss: 3.0435e-04 - val_accuracy: 0.8991 - val_loss: 8.3800\n",
            "Epoch 40/40\n",
            "\u001b[1m21/21\u001b[0m \u001b[32m━━━━━━━━━━━━━━━━━━━━\u001b[0m\u001b[37m\u001b[0m \u001b[1m2s\u001b[0m 105ms/step - accuracy: 1.0000 - loss: 5.6977e-04 - val_accuracy: 0.8991 - val_loss: 8.3789\n"
          ]
        }
      ]
    },
    {
      "cell_type": "code",
      "source": [
        "# Create and train augmented model\n",
        "augmented_model = create_model(X_train_aug.shape[1:], y_train_aug.shape[1])\n",
        "augmented_history = augmented_model.fit(X_train_aug, y_train_aug, epochs=40, validation_data=(X_val, y_val))\n"
      ],
      "metadata": {
        "colab": {
          "base_uri": "https://localhost:8080/"
        },
        "id": "cbXvI_HocV1v",
        "outputId": "df0fa625-b4bb-48d1-de2d-4d8da4eb9e22"
      },
      "execution_count": null,
      "outputs": [
        {
          "output_type": "stream",
          "name": "stdout",
          "text": [
            "Epoch 1/40\n",
            "\u001b[1m11/11\u001b[0m \u001b[32m━━━━━━━━━━━━━━━━━━━━\u001b[0m\u001b[37m\u001b[0m \u001b[1m22s\u001b[0m 1s/step - accuracy: 0.7682 - loss: 8.3343 - val_accuracy: 0.9568 - val_loss: 5.1474\n",
            "Epoch 2/40\n",
            "\u001b[1m11/11\u001b[0m \u001b[32m━━━━━━━━━━━━━━━━━━━━\u001b[0m\u001b[37m\u001b[0m \u001b[1m2s\u001b[0m 162ms/step - accuracy: 0.9713 - loss: 1.9355 - val_accuracy: 0.8444 - val_loss: 11.5146\n",
            "Epoch 3/40\n",
            "\u001b[1m11/11\u001b[0m \u001b[32m━━━━━━━━━━━━━━━━━━━━\u001b[0m\u001b[37m\u001b[0m \u001b[1m2s\u001b[0m 159ms/step - accuracy: 0.9622 - loss: 1.4863 - val_accuracy: 0.9640 - val_loss: 4.0116\n",
            "Epoch 4/40\n",
            "\u001b[1m11/11\u001b[0m \u001b[32m━━━━━━━━━━━━━━━━━━━━\u001b[0m\u001b[37m\u001b[0m \u001b[1m2s\u001b[0m 162ms/step - accuracy: 0.9930 - loss: 0.2826 - val_accuracy: 0.9625 - val_loss: 5.2970\n",
            "Epoch 5/40\n",
            "\u001b[1m11/11\u001b[0m \u001b[32m━━━━━━━━━━━━━━━━━━━━\u001b[0m\u001b[37m\u001b[0m \u001b[1m2s\u001b[0m 158ms/step - accuracy: 0.9935 - loss: 0.3956 - val_accuracy: 0.9611 - val_loss: 6.0918\n",
            "Epoch 6/40\n",
            "\u001b[1m11/11\u001b[0m \u001b[32m━━━━━━━━━━━━━━━━━━━━\u001b[0m\u001b[37m\u001b[0m \u001b[1m2s\u001b[0m 159ms/step - accuracy: 0.9982 - loss: 0.0795 - val_accuracy: 0.8934 - val_loss: 11.2960\n",
            "Epoch 7/40\n",
            "\u001b[1m11/11\u001b[0m \u001b[32m━━━━━━━━━━━━━━━━━━━━\u001b[0m\u001b[37m\u001b[0m \u001b[1m2s\u001b[0m 160ms/step - accuracy: 0.9919 - loss: 0.1766 - val_accuracy: 0.9597 - val_loss: 5.9627\n",
            "Epoch 8/40\n",
            "\u001b[1m11/11\u001b[0m \u001b[32m━━━━━━━━━━━━━━━━━━━━\u001b[0m\u001b[37m\u001b[0m \u001b[1m2s\u001b[0m 159ms/step - accuracy: 1.0000 - loss: 0.0000e+00 - val_accuracy: 0.9654 - val_loss: 5.8880\n",
            "Epoch 9/40\n",
            "\u001b[1m11/11\u001b[0m \u001b[32m━━━━━━━━━━━━━━━━━━━━\u001b[0m\u001b[37m\u001b[0m \u001b[1m2s\u001b[0m 159ms/step - accuracy: 1.0000 - loss: 0.0000e+00 - val_accuracy: 0.9654 - val_loss: 5.9717\n",
            "Epoch 10/40\n",
            "\u001b[1m11/11\u001b[0m \u001b[32m━━━━━━━━━━━━━━━━━━━━\u001b[0m\u001b[37m\u001b[0m \u001b[1m2s\u001b[0m 159ms/step - accuracy: 1.0000 - loss: 4.0034e-10 - val_accuracy: 0.9654 - val_loss: 6.0085\n",
            "Epoch 11/40\n",
            "\u001b[1m11/11\u001b[0m \u001b[32m━━━━━━━━━━━━━━━━━━━━\u001b[0m\u001b[37m\u001b[0m \u001b[1m2s\u001b[0m 161ms/step - accuracy: 1.0000 - loss: 2.7973e-09 - val_accuracy: 0.9669 - val_loss: 6.0215\n",
            "Epoch 12/40\n",
            "\u001b[1m11/11\u001b[0m \u001b[32m━━━━━━━━━━━━━━━━━━━━\u001b[0m\u001b[37m\u001b[0m \u001b[1m2s\u001b[0m 160ms/step - accuracy: 1.0000 - loss: 7.4227e-09 - val_accuracy: 0.9669 - val_loss: 6.0266\n",
            "Epoch 13/40\n",
            "\u001b[1m11/11\u001b[0m \u001b[32m━━━━━━━━━━━━━━━━━━━━\u001b[0m\u001b[37m\u001b[0m \u001b[1m2s\u001b[0m 160ms/step - accuracy: 1.0000 - loss: 3.1264e-09 - val_accuracy: 0.9669 - val_loss: 6.0276\n",
            "Epoch 14/40\n",
            "\u001b[1m11/11\u001b[0m \u001b[32m━━━━━━━━━━━━━━━━━━━━\u001b[0m\u001b[37m\u001b[0m \u001b[1m2s\u001b[0m 159ms/step - accuracy: 1.0000 - loss: 9.8856e-09 - val_accuracy: 0.9669 - val_loss: 6.0285\n",
            "Epoch 15/40\n",
            "\u001b[1m11/11\u001b[0m \u001b[32m━━━━━━━━━━━━━━━━━━━━\u001b[0m\u001b[37m\u001b[0m \u001b[1m2s\u001b[0m 161ms/step - accuracy: 1.0000 - loss: 6.5904e-09 - val_accuracy: 0.9669 - val_loss: 6.0286\n",
            "Epoch 16/40\n",
            "\u001b[1m11/11\u001b[0m \u001b[32m━━━━━━━━━━━━━━━━━━━━\u001b[0m\u001b[37m\u001b[0m \u001b[1m2s\u001b[0m 158ms/step - accuracy: 1.0000 - loss: 3.5267e-09 - val_accuracy: 0.9669 - val_loss: 6.0288\n",
            "Epoch 17/40\n",
            "\u001b[1m11/11\u001b[0m \u001b[32m━━━━━━━━━━━━━━━━━━━━\u001b[0m\u001b[37m\u001b[0m \u001b[1m2s\u001b[0m 159ms/step - accuracy: 1.0000 - loss: 1.0445e-09 - val_accuracy: 0.9669 - val_loss: 6.0288\n",
            "Epoch 18/40\n",
            "\u001b[1m11/11\u001b[0m \u001b[32m━━━━━━━━━━━━━━━━━━━━\u001b[0m\u001b[37m\u001b[0m \u001b[1m2s\u001b[0m 162ms/step - accuracy: 1.0000 - loss: 8.2275e-10 - val_accuracy: 0.9669 - val_loss: 6.0288\n",
            "Epoch 19/40\n",
            "\u001b[1m11/11\u001b[0m \u001b[32m━━━━━━━━━━━━━━━━━━━━\u001b[0m\u001b[37m\u001b[0m \u001b[1m2s\u001b[0m 160ms/step - accuracy: 1.0000 - loss: 1.6013e-09 - val_accuracy: 0.9669 - val_loss: 6.0289\n",
            "Epoch 20/40\n",
            "\u001b[1m11/11\u001b[0m \u001b[32m━━━━━━━━━━━━━━━━━━━━\u001b[0m\u001b[37m\u001b[0m \u001b[1m2s\u001b[0m 161ms/step - accuracy: 1.0000 - loss: 2.4083e-10 - val_accuracy: 0.9669 - val_loss: 6.0288\n",
            "Epoch 21/40\n",
            "\u001b[1m11/11\u001b[0m \u001b[32m━━━━━━━━━━━━━━━━━━━━\u001b[0m\u001b[37m\u001b[0m \u001b[1m2s\u001b[0m 160ms/step - accuracy: 1.0000 - loss: 6.2669e-10 - val_accuracy: 0.9669 - val_loss: 6.0288\n",
            "Epoch 22/40\n",
            "\u001b[1m11/11\u001b[0m \u001b[32m━━━━━━━━━━━━━━━━━━━━\u001b[0m\u001b[37m\u001b[0m \u001b[1m2s\u001b[0m 158ms/step - accuracy: 1.0000 - loss: 1.9771e-09 - val_accuracy: 0.9669 - val_loss: 6.0289\n",
            "Epoch 23/40\n",
            "\u001b[1m11/11\u001b[0m \u001b[32m━━━━━━━━━━━━━━━━━━━━\u001b[0m\u001b[37m\u001b[0m \u001b[1m2s\u001b[0m 160ms/step - accuracy: 1.0000 - loss: 1.8250e-10 - val_accuracy: 0.9669 - val_loss: 6.0289\n",
            "Epoch 24/40\n",
            "\u001b[1m11/11\u001b[0m \u001b[32m━━━━━━━━━━━━━━━━━━━━\u001b[0m\u001b[37m\u001b[0m \u001b[1m2s\u001b[0m 157ms/step - accuracy: 1.0000 - loss: 8.0067e-10 - val_accuracy: 0.9669 - val_loss: 6.0288\n",
            "Epoch 25/40\n",
            "\u001b[1m11/11\u001b[0m \u001b[32m━━━━━━━━━━━━━━━━━━━━\u001b[0m\u001b[37m\u001b[0m \u001b[1m2s\u001b[0m 160ms/step - accuracy: 1.0000 - loss: 8.0067e-10 - val_accuracy: 0.9669 - val_loss: 6.0288\n",
            "Epoch 26/40\n",
            "\u001b[1m11/11\u001b[0m \u001b[32m━━━━━━━━━━━━━━━━━━━━\u001b[0m\u001b[37m\u001b[0m \u001b[1m2s\u001b[0m 158ms/step - accuracy: 1.0000 - loss: 8.0067e-10 - val_accuracy: 0.9669 - val_loss: 6.0288\n",
            "Epoch 27/40\n",
            "\u001b[1m11/11\u001b[0m \u001b[32m━━━━━━━━━━━━━━━━━━━━\u001b[0m\u001b[37m\u001b[0m \u001b[1m2s\u001b[0m 158ms/step - accuracy: 1.0000 - loss: 1.3181e-09 - val_accuracy: 0.9669 - val_loss: 6.0288\n",
            "Epoch 28/40\n",
            "\u001b[1m11/11\u001b[0m \u001b[32m━━━━━━━━━━━━━━━━━━━━\u001b[0m\u001b[37m\u001b[0m \u001b[1m2s\u001b[0m 157ms/step - accuracy: 1.0000 - loss: 6.4545e-10 - val_accuracy: 0.9669 - val_loss: 6.0288\n",
            "Epoch 29/40\n",
            "\u001b[1m11/11\u001b[0m \u001b[32m━━━━━━━━━━━━━━━━━━━━\u001b[0m\u001b[37m\u001b[0m \u001b[1m2s\u001b[0m 157ms/step - accuracy: 1.0000 - loss: 1.8250e-10 - val_accuracy: 0.9669 - val_loss: 6.0288\n",
            "Epoch 30/40\n",
            "\u001b[1m11/11\u001b[0m \u001b[32m━━━━━━━━━━━━━━━━━━━━\u001b[0m\u001b[37m\u001b[0m \u001b[1m2s\u001b[0m 158ms/step - accuracy: 1.0000 - loss: 1.3181e-09 - val_accuracy: 0.9669 - val_loss: 6.0289\n",
            "Epoch 31/40\n",
            "\u001b[1m11/11\u001b[0m \u001b[32m━━━━━━━━━━━━━━━━━━━━\u001b[0m\u001b[37m\u001b[0m \u001b[1m2s\u001b[0m 159ms/step - accuracy: 1.0000 - loss: 9.1251e-11 - val_accuracy: 0.9669 - val_loss: 6.0289\n",
            "Epoch 32/40\n",
            "\u001b[1m11/11\u001b[0m \u001b[32m━━━━━━━━━━━━━━━━━━━━\u001b[0m\u001b[37m\u001b[0m \u001b[1m2s\u001b[0m 161ms/step - accuracy: 1.0000 - loss: 1.6455e-10 - val_accuracy: 0.9669 - val_loss: 6.0289\n",
            "Epoch 33/40\n",
            "\u001b[1m11/11\u001b[0m \u001b[32m━━━━━━━━━━━━━━━━━━━━\u001b[0m\u001b[37m\u001b[0m \u001b[1m2s\u001b[0m 161ms/step - accuracy: 1.0000 - loss: 1.6455e-10 - val_accuracy: 0.9669 - val_loss: 6.0289\n",
            "Epoch 34/40\n",
            "\u001b[1m11/11\u001b[0m \u001b[32m━━━━━━━━━━━━━━━━━━━━\u001b[0m\u001b[37m\u001b[0m \u001b[1m2s\u001b[0m 159ms/step - accuracy: 1.0000 - loss: 5.0382e-10 - val_accuracy: 0.9669 - val_loss: 6.0289\n",
            "Epoch 35/40\n",
            "\u001b[1m11/11\u001b[0m \u001b[32m━━━━━━━━━━━━━━━━━━━━\u001b[0m\u001b[37m\u001b[0m \u001b[1m2s\u001b[0m 159ms/step - accuracy: 1.0000 - loss: 5.0382e-10 - val_accuracy: 0.9669 - val_loss: 6.0289\n",
            "Epoch 36/40\n",
            "\u001b[1m11/11\u001b[0m \u001b[32m━━━━━━━━━━━━━━━━━━━━\u001b[0m\u001b[37m\u001b[0m \u001b[1m2s\u001b[0m 157ms/step - accuracy: 1.0000 - loss: 5.0382e-10 - val_accuracy: 0.9669 - val_loss: 6.0289\n",
            "Epoch 37/40\n",
            "\u001b[1m11/11\u001b[0m \u001b[32m━━━━━━━━━━━━━━━━━━━━\u001b[0m\u001b[37m\u001b[0m \u001b[1m2s\u001b[0m 159ms/step - accuracy: 1.0000 - loss: 3.2273e-10 - val_accuracy: 0.9669 - val_loss: 6.0289\n",
            "Epoch 38/40\n",
            "\u001b[1m11/11\u001b[0m \u001b[32m━━━━━━━━━━━━━━━━━━━━\u001b[0m\u001b[37m\u001b[0m \u001b[1m2s\u001b[0m 158ms/step - accuracy: 1.0000 - loss: 2.0890e-10 - val_accuracy: 0.9669 - val_loss: 6.0289\n",
            "Epoch 39/40\n",
            "\u001b[1m11/11\u001b[0m \u001b[32m━━━━━━━━━━━━━━━━━━━━\u001b[0m\u001b[37m\u001b[0m \u001b[1m2s\u001b[0m 159ms/step - accuracy: 1.0000 - loss: 9.1251e-11 - val_accuracy: 0.9669 - val_loss: 6.0289\n",
            "Epoch 40/40\n",
            "\u001b[1m11/11\u001b[0m \u001b[32m━━━━━━━━━━━━━━━━━━━━\u001b[0m\u001b[37m\u001b[0m \u001b[1m2s\u001b[0m 159ms/step - accuracy: 1.0000 - loss: 5.0382e-10 - val_accuracy: 0.9669 - val_loss: 6.0289\n"
          ]
        }
      ]
    },
    {
      "cell_type": "code",
      "source": [
        "import matplotlib.pyplot as plt\n",
        "plt.plot(baseline_history.history['accuracy'], label='Baseline Training Accuracy')\n",
        "plt.plot(baseline_history.history['val_accuracy'], label='Baseline Validation Accuracy')\n",
        "plt.plot(augmented_history.history['accuracy'], label='Augmented Training Accuracy')\n",
        "plt.plot(augmented_history.history['val_accuracy'], label='Augmented Validation Accuracy')\n",
        "plt.xlabel('Epoch')\n",
        "plt.ylabel('Accuracy')\n",
        "plt.title('Training and Validation Accuracy')\n",
        "plt.legend()\n",
        "plt.show()"
      ],
      "metadata": {
        "colab": {
          "base_uri": "https://localhost:8080/",
          "height": 472
        },
        "id": "j4OEyX7vcZY9",
        "outputId": "b4216fc0-e8ce-4c40-e913-f4c24908fbf7"
      },
      "execution_count": null,
      "outputs": [
        {
          "output_type": "display_data",
          "data": {
            "text/plain": [
              "<Figure size 640x480 with 1 Axes>"
            ],
            "image/png": "[encoded data removed]"
          },
          "metadata": {}
        }
      ]
    },
    {
      "cell_type": "code",
      "source": [
        "# Evaluate both models on the test set\n",
        "baseline_score = baseline_model.evaluate(X_test, y_test, verbose=0)\n",
        "augmented_score = augmented_model.evaluate(X_test, y_test, verbose=0)\n",
        "print(\"Baseline Model - Test loss:\", baseline_score[0], \"Test accuracy:\", baseline_score[1])\n",
        "print(\"Augmented Model - Test loss:\", augmented_score[0], \"Test accuracy:\", augmented_score[1])"
      ],
      "metadata": {
        "colab": {
          "base_uri": "https://localhost:8080/"
        },
        "id": "YG2Tw6PwcbB5",
        "outputId": "55400f85-1782-46f3-9f68-24df89e93e4e"
      },
      "execution_count": null,
      "outputs": [
        {
          "output_type": "stream",
          "name": "stdout",
          "text": [
            "Baseline Model - Test loss: 7.7023797035217285 Test accuracy: 0.909221887588501\n",
            "Augmented Model - Test loss: 9.291404724121094 Test accuracy: 0.9538905024528503\n"
          ]
        }
      ]
    },
    {
      "cell_type": "code",
      "source": [
        "# Percentage change in test loss\n",
        "change_loss=((bayesian_search_score[0]-augmented_score[0])/augmented_score[0])*100\n",
        "print(f\"Percentage change in test loss: {change_loss:.2f}%\")\n",
        "\n",
        "# Percentage change in test accuracy\n",
        "change_acc=((bayesian_search_score[1]-augmented_score[1])/augmented_score[1])*100\n",
        "print(f\"Percentage change in test accuracy: {change_acc:.2f}%\")\n"
      ],
      "metadata": {
        "colab": {
          "base_uri": "https://localhost:8080/"
        },
        "id": "gO952euhcdrf",
        "outputId": "6f63dfcd-665d-4d19-e154-20c788bb369e"
      },
      "execution_count": null,
      "outputs": [
        {
          "output_type": "stream",
          "name": "stdout",
          "text": [
            "Percentage change in test loss: -48.84%\n",
            "Percentage change in test accuracy: -1.96%\n"
          ]
        }
      ]
    }
  ]
}