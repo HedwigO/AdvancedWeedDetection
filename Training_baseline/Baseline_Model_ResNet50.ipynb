{
  "nbformat": 4,
  "nbformat_minor": 0,
  "metadata": {
    "colab": {
      "provenance": [],
      "machine_shape": "hm",
      "gpuType": "T4"
    },
    "kernelspec": {
      "name": "python3",
      "display_name": "Python 3"
    },
    "language_info": {
      "name": "python"
    },
    "accelerator": "GPU"
  },
  "cells": [
    {
      "cell_type": "code",
      "execution_count": 1,
      "metadata": {
        "id": "BjiarMyg-8Ob"
      },
      "outputs": [],
      "source": [
        "import numpy as np\n",
        "import pandas as pd\n",
        "import os\n",
        "import cv2\n",
        "from sklearn.model_selection import train_test_split\n",
        "from tensorflow.keras.models import Sequential\n",
        "from tensorflow.keras.layers import Conv2D, MaxPooling2D, Flatten, Dense\n",
        "from tensorflow.keras.utils import to_categorical\n",
        "import albumentations as A"
      ]
    },
    {
      "cell_type": "code",
      "source": [
        "# Define function to apply weather effects\n",
        "def apply_weather_effect(image, effect_type=\"rain\"):\n",
        "    if effect_type == \"rain\":\n",
        "        transform = A.RandomRain(brightness_coefficient=0.9, drop_width=1, blur_value=3, p=1)\n",
        "    elif effect_type == \"snow\":\n",
        "        transform = A.RandomSnow(brightness_coeff=2.5, snow_point_lower=0.3, snow_point_upper=0.5, p=1)\n",
        "    return transform(image=image)['image']"
      ],
      "metadata": {
        "id": "krpYGEYo_Xqa"
      },
      "execution_count": 2,
      "outputs": []
    },
    {
      "cell_type": "code",
      "source": [
        "from google.colab import drive\n",
        "drive.mount('/content/drive')"
      ],
      "metadata": {
        "colab": {
          "base_uri": "https://localhost:8080/"
        },
        "id": "RS3PgZ_oAUDg",
        "outputId": "568cdaf5-64c6-4ab8-a4b9-40e7bca77fc1"
      },
      "execution_count": 3,
      "outputs": [
        {
          "output_type": "stream",
          "name": "stdout",
          "text": [
            "Mounted at /content/drive\n"
          ]
        }
      ]
    },
    {
      "cell_type": "code",
      "source": [
        "# Load dataset\n",
        "image_data_dir = \"/content/drive/My Drive/CNN/Dataset/train_images\"\n",
        "image_filenames = os.listdir(image_data_dir)\n",
        "labels_data = pd.read_csv(\"/content/drive/My Drive/CNN/Dataset/labels.csv\")\n",
        "\n",
        "# Preprocess and separate original and augmented data\n",
        "original_images = []\n",
        "augmented_images = []\n",
        "original_labels = []\n",
        "augmented_labels = []\n",
        "\n",
        "for filename in image_filenames:\n",
        "    image_path = os.path.join(image_data_dir, filename)\n",
        "    image = cv2.imread(image_path)\n",
        "    image = cv2.cvtColor(image, cv2.COLOR_BGR2RGB) if image is not None else None\n",
        "    if image is not None and filename in labels_data['image_filename'].values:\n",
        "        label = labels_data[labels_data['image_filename'] == filename]['label'].iloc[0]\n",
        "        original_images.append(image)\n",
        "        original_labels.append(label)\n",
        "\n",
        "        # Randomly decide to augment with weather effects\n",
        "        if np.random.rand() < 0.5:  # 50% chance to augment\n",
        "            effect_type = np.random.choice([\"rain\", \"snow\"])\n",
        "            aug_image = apply_weather_effect(image, effect_type=effect_type)\n",
        "            augmented_images.append(aug_image)\n",
        "            augmented_labels.append(label)"
      ],
      "metadata": {
        "id": "FKUqG7aX_cQt"
      },
      "execution_count": 4,
      "outputs": []
    },
    {
      "cell_type": "code",
      "source": [
        "# Convert lists to arrays\n",
        "X_original = np.array(original_images)\n",
        "y_original = to_categorical(np.array(original_labels))\n",
        "X_augmented = np.array(augmented_images)\n",
        "y_augmented = to_categorical(np.array(augmented_labels))\n",
        "\n",
        "# Combine original and augmented for validation and testing\n",
        "X_combined = np.concatenate((X_original, X_augmented))\n",
        "y_combined = np.concatenate((y_original, y_augmented))\n",
        "\n",
        "# Split into training, validation, and test sets\n",
        "X_train_orig, X_temp, y_train_orig, y_temp = train_test_split(X_original, y_original, test_size=0.3, random_state=42)\n",
        "X_val, X_test, y_val, y_test = train_test_split(X_combined, y_combined, test_size=0.5, random_state=42)  # Split combined for validation and testing\n",
        "\n",
        "X_train_aug, _, y_train_aug, _ = train_test_split(X_augmented, y_augmented, test_size=0.3, random_state=42)  # Training set for augmented model"
      ],
      "metadata": {
        "id": "_KIfXhOi_mQR"
      },
      "execution_count": 5,
      "outputs": []
    },
    {
      "cell_type": "code",
      "source": [
        "from tensorflow.keras.applications import ResNet50\n",
        "\n",
        "def create_model(input_shape, num_classes):\n",
        "    base_model = ResNet50(weights='imagenet', include_top=False, input_shape=input_shape)\n",
        "    for layer in base_model.layers:\n",
        "        layer.trainable = False\n",
        "\n",
        "    model = Sequential([\n",
        "        base_model,\n",
        "        Flatten(),\n",
        "        Dense(64, activation=\"relu\"),\n",
        "        Dense(num_classes, activation=\"softmax\")\n",
        "    ])\n",
        "    model.compile(loss=\"categorical_crossentropy\", optimizer=\"adam\", metrics=[\"accuracy\"])\n",
        "    return model\n"
      ],
      "metadata": {
        "id": "qqB-8MqJJaz8"
      },
      "execution_count": 6,
      "outputs": []
    },
    {
      "cell_type": "code",
      "source": [
        "# Create and train baseline model\n",
        "baseline_model = create_model(X_train_orig.shape[1:], y_train_orig.shape[1])\n",
        "baseline_history = baseline_model.fit(X_train_orig, y_train_orig, epochs=40, validation_data=(X_val, y_val))\n"
      ],
      "metadata": {
        "colab": {
          "base_uri": "https://localhost:8080/"
        },
        "id": "0iMEK6kyNT0E",
        "outputId": "abc0cef2-ae62-4e4b-d82e-12d67fd71f05"
      },
      "execution_count": 7,
      "outputs": [
        {
          "output_type": "stream",
          "name": "stdout",
          "text": [
            "Downloading data from https://storage.googleapis.com/tensorflow/keras-applications/resnet/resnet50_weights_tf_dim_ordering_tf_kernels_notop.h5\n",
            "94765736/94765736 [==============================] - 5s 0us/step\n",
            "Epoch 1/40\n",
            "21/21 [==============================] - 34s 1s/step - loss: 9.0382 - accuracy: 0.8814 - val_loss: 3.1104 - val_accuracy: 0.9053\n",
            "Epoch 2/40\n",
            "21/21 [==============================] - 17s 851ms/step - loss: 0.3055 - accuracy: 0.9828 - val_loss: 4.2746 - val_accuracy: 0.9112\n",
            "Epoch 3/40\n",
            "21/21 [==============================] - 18s 875ms/step - loss: 0.0940 - accuracy: 0.9922 - val_loss: 6.0523 - val_accuracy: 0.9024\n",
            "Epoch 4/40\n",
            "21/21 [==============================] - 19s 905ms/step - loss: 0.0089 - accuracy: 0.9969 - val_loss: 5.1379 - val_accuracy: 0.9157\n",
            "Epoch 5/40\n",
            "21/21 [==============================] - 18s 895ms/step - loss: 2.0683e-05 - accuracy: 1.0000 - val_loss: 5.8660 - val_accuracy: 0.9112\n",
            "Epoch 6/40\n",
            "21/21 [==============================] - 18s 877ms/step - loss: 0.1380 - accuracy: 0.9969 - val_loss: 3.7140 - val_accuracy: 0.9157\n",
            "Epoch 7/40\n",
            "21/21 [==============================] - 18s 877ms/step - loss: 0.2448 - accuracy: 0.9797 - val_loss: 3.9834 - val_accuracy: 0.9009\n",
            "Epoch 8/40\n",
            "21/21 [==============================] - 18s 887ms/step - loss: 0.3948 - accuracy: 0.9844 - val_loss: 5.3744 - val_accuracy: 0.9083\n",
            "Epoch 9/40\n",
            "21/21 [==============================] - 18s 890ms/step - loss: 0.2575 - accuracy: 0.9844 - val_loss: 10.9054 - val_accuracy: 0.8964\n",
            "Epoch 10/40\n",
            "21/21 [==============================] - 18s 886ms/step - loss: 0.0718 - accuracy: 0.9922 - val_loss: 4.4734 - val_accuracy: 0.9157\n",
            "Epoch 11/40\n",
            "21/21 [==============================] - 18s 884ms/step - loss: 0.1178 - accuracy: 0.9891 - val_loss: 7.8290 - val_accuracy: 0.9112\n",
            "Epoch 12/40\n",
            "21/21 [==============================] - 18s 885ms/step - loss: 0.0050 - accuracy: 0.9969 - val_loss: 6.2633 - val_accuracy: 0.9186\n",
            "Epoch 13/40\n",
            "21/21 [==============================] - 18s 886ms/step - loss: 0.0025 - accuracy: 0.9984 - val_loss: 6.4766 - val_accuracy: 0.9186\n",
            "Epoch 14/40\n",
            "21/21 [==============================] - 18s 887ms/step - loss: 0.0022 - accuracy: 0.9984 - val_loss: 6.4756 - val_accuracy: 0.9186\n",
            "Epoch 15/40\n",
            "21/21 [==============================] - 18s 888ms/step - loss: 0.0022 - accuracy: 0.9984 - val_loss: 6.4754 - val_accuracy: 0.9186\n",
            "Epoch 16/40\n",
            "21/21 [==============================] - 18s 887ms/step - loss: 0.0022 - accuracy: 0.9984 - val_loss: 6.4751 - val_accuracy: 0.9186\n",
            "Epoch 17/40\n",
            "21/21 [==============================] - 18s 887ms/step - loss: 0.0022 - accuracy: 0.9984 - val_loss: 6.4750 - val_accuracy: 0.9186\n",
            "Epoch 18/40\n",
            "21/21 [==============================] - 18s 889ms/step - loss: 0.0022 - accuracy: 0.9984 - val_loss: 6.4750 - val_accuracy: 0.9186\n",
            "Epoch 19/40\n",
            "21/21 [==============================] - 18s 888ms/step - loss: 0.0022 - accuracy: 0.9984 - val_loss: 6.4747 - val_accuracy: 0.9186\n",
            "Epoch 20/40\n",
            "21/21 [==============================] - 18s 888ms/step - loss: 0.0022 - accuracy: 0.9984 - val_loss: 6.4747 - val_accuracy: 0.9186\n",
            "Epoch 21/40\n",
            "21/21 [==============================] - 18s 888ms/step - loss: 0.0022 - accuracy: 0.9984 - val_loss: 6.4746 - val_accuracy: 0.9186\n",
            "Epoch 22/40\n",
            "21/21 [==============================] - 18s 887ms/step - loss: 0.0022 - accuracy: 0.9984 - val_loss: 6.4743 - val_accuracy: 0.9186\n",
            "Epoch 23/40\n",
            "21/21 [==============================] - 18s 888ms/step - loss: 0.0022 - accuracy: 0.9984 - val_loss: 6.4742 - val_accuracy: 0.9186\n",
            "Epoch 24/40\n",
            "21/21 [==============================] - 18s 887ms/step - loss: 0.0022 - accuracy: 0.9984 - val_loss: 6.4742 - val_accuracy: 0.9186\n",
            "Epoch 25/40\n",
            "21/21 [==============================] - 18s 887ms/step - loss: 0.0022 - accuracy: 0.9984 - val_loss: 6.4740 - val_accuracy: 0.9186\n",
            "Epoch 26/40\n",
            "21/21 [==============================] - 18s 887ms/step - loss: 0.0022 - accuracy: 0.9984 - val_loss: 6.4739 - val_accuracy: 0.9186\n",
            "Epoch 27/40\n",
            "21/21 [==============================] - 18s 889ms/step - loss: 0.0022 - accuracy: 0.9984 - val_loss: 6.4737 - val_accuracy: 0.9186\n",
            "Epoch 28/40\n",
            "21/21 [==============================] - 18s 889ms/step - loss: 0.0022 - accuracy: 0.9984 - val_loss: 6.4736 - val_accuracy: 0.9186\n",
            "Epoch 29/40\n",
            "21/21 [==============================] - 18s 885ms/step - loss: 0.0022 - accuracy: 0.9984 - val_loss: 6.4735 - val_accuracy: 0.9186\n",
            "Epoch 30/40\n",
            "21/21 [==============================] - 18s 885ms/step - loss: 0.0022 - accuracy: 0.9984 - val_loss: 6.4734 - val_accuracy: 0.9186\n",
            "Epoch 31/40\n",
            "21/21 [==============================] - 18s 888ms/step - loss: 0.0022 - accuracy: 0.9984 - val_loss: 6.4734 - val_accuracy: 0.9186\n",
            "Epoch 32/40\n",
            "21/21 [==============================] - 18s 891ms/step - loss: 0.0022 - accuracy: 0.9984 - val_loss: 6.4730 - val_accuracy: 0.9186\n",
            "Epoch 33/40\n",
            "21/21 [==============================] - 18s 887ms/step - loss: 0.0022 - accuracy: 0.9984 - val_loss: 6.4731 - val_accuracy: 0.9186\n",
            "Epoch 34/40\n",
            "21/21 [==============================] - 18s 887ms/step - loss: 0.0022 - accuracy: 0.9984 - val_loss: 6.4728 - val_accuracy: 0.9186\n",
            "Epoch 35/40\n",
            "21/21 [==============================] - 18s 886ms/step - loss: 0.0022 - accuracy: 0.9984 - val_loss: 6.4728 - val_accuracy: 0.9186\n",
            "Epoch 36/40\n",
            "21/21 [==============================] - 18s 887ms/step - loss: 0.0022 - accuracy: 0.9984 - val_loss: 6.4726 - val_accuracy: 0.9186\n",
            "Epoch 37/40\n",
            "21/21 [==============================] - 18s 886ms/step - loss: 0.0022 - accuracy: 0.9984 - val_loss: 6.4726 - val_accuracy: 0.9186\n",
            "Epoch 38/40\n",
            "21/21 [==============================] - 18s 887ms/step - loss: 0.0022 - accuracy: 0.9984 - val_loss: 6.4725 - val_accuracy: 0.9186\n",
            "Epoch 39/40\n",
            "21/21 [==============================] - 18s 888ms/step - loss: 0.0022 - accuracy: 0.9984 - val_loss: 6.4723 - val_accuracy: 0.9186\n",
            "Epoch 40/40\n",
            "21/21 [==============================] - 18s 887ms/step - loss: 0.0022 - accuracy: 0.9984 - val_loss: 6.4723 - val_accuracy: 0.9186\n"
          ]
        }
      ]
    },
    {
      "cell_type": "code",
      "source": [
        "# Create and train augmented model\n",
        "augmented_model = create_model(X_train_aug.shape[1:], y_train_aug.shape[1])\n",
        "augmented_history = augmented_model.fit(X_train_aug, y_train_aug, epochs=40, validation_data=(X_val, y_val))\n"
      ],
      "metadata": {
        "id": "xfL48_-5BBgX",
        "colab": {
          "base_uri": "https://localhost:8080/"
        },
        "outputId": "9f7fb076-1055-4459-e3e9-630df37a2e17"
      },
      "execution_count": 8,
      "outputs": [
        {
          "output_type": "stream",
          "name": "stdout",
          "text": [
            "Epoch 1/40\n",
            "10/10 [==============================] - 23s 2s/step - loss: 35.5117 - accuracy: 0.7016 - val_loss: 12.7764 - val_accuracy: 0.8743\n",
            "Epoch 2/40\n",
            "10/10 [==============================] - 14s 1s/step - loss: 8.9436 - accuracy: 0.9279 - val_loss: 11.2946 - val_accuracy: 0.8950\n",
            "Epoch 3/40\n",
            "10/10 [==============================] - 14s 1s/step - loss: 4.6043 - accuracy: 0.9443 - val_loss: 9.6804 - val_accuracy: 0.9364\n",
            "Epoch 4/40\n",
            "10/10 [==============================] - 14s 1s/step - loss: 2.5943 - accuracy: 0.9705 - val_loss: 9.7169 - val_accuracy: 0.9453\n",
            "Epoch 5/40\n",
            "10/10 [==============================] - 13s 1s/step - loss: 0.9390 - accuracy: 0.9869 - val_loss: 8.8092 - val_accuracy: 0.9527\n",
            "Epoch 6/40\n",
            "10/10 [==============================] - 13s 1s/step - loss: 0.1370 - accuracy: 0.9967 - val_loss: 9.0283 - val_accuracy: 0.9630\n",
            "Epoch 7/40\n",
            "10/10 [==============================] - 14s 1s/step - loss: 0.0403 - accuracy: 0.9967 - val_loss: 9.1504 - val_accuracy: 0.9601\n",
            "Epoch 8/40\n",
            "10/10 [==============================] - 14s 1s/step - loss: 0.0000e+00 - accuracy: 1.0000 - val_loss: 8.9175 - val_accuracy: 0.9527\n",
            "Epoch 9/40\n",
            "10/10 [==============================] - 14s 1s/step - loss: 0.0296 - accuracy: 0.9967 - val_loss: 8.6839 - val_accuracy: 0.9556\n",
            "Epoch 10/40\n",
            "10/10 [==============================] - 14s 1s/step - loss: 0.0000e+00 - accuracy: 1.0000 - val_loss: 8.5444 - val_accuracy: 0.9601\n",
            "Epoch 11/40\n",
            "10/10 [==============================] - 14s 1s/step - loss: 0.0000e+00 - accuracy: 1.0000 - val_loss: 8.6325 - val_accuracy: 0.9586\n",
            "Epoch 12/40\n",
            "10/10 [==============================] - 14s 1s/step - loss: 2.7359e-09 - accuracy: 1.0000 - val_loss: 8.6639 - val_accuracy: 0.9586\n",
            "Epoch 13/40\n",
            "10/10 [==============================] - 13s 1s/step - loss: 5.0028e-08 - accuracy: 1.0000 - val_loss: 8.6770 - val_accuracy: 0.9571\n",
            "Epoch 14/40\n",
            "10/10 [==============================] - 13s 1s/step - loss: 6.3708e-08 - accuracy: 1.0000 - val_loss: 8.6820 - val_accuracy: 0.9571\n",
            "Epoch 15/40\n",
            "10/10 [==============================] - 13s 1s/step - loss: 1.0123e-07 - accuracy: 1.0000 - val_loss: 8.6838 - val_accuracy: 0.9571\n",
            "Epoch 16/40\n",
            "10/10 [==============================] - 13s 1s/step - loss: 1.1491e-07 - accuracy: 1.0000 - val_loss: 8.6845 - val_accuracy: 0.9571\n",
            "Epoch 17/40\n",
            "10/10 [==============================] - 14s 1s/step - loss: 1.1413e-07 - accuracy: 1.0000 - val_loss: 8.6846 - val_accuracy: 0.9571\n",
            "Epoch 18/40\n",
            "10/10 [==============================] - 14s 1s/step - loss: 1.1139e-07 - accuracy: 1.0000 - val_loss: 8.6846 - val_accuracy: 0.9571\n",
            "Epoch 19/40\n",
            "10/10 [==============================] - 14s 1s/step - loss: 1.0631e-07 - accuracy: 1.0000 - val_loss: 8.6846 - val_accuracy: 0.9571\n",
            "Epoch 20/40\n",
            "10/10 [==============================] - 14s 1s/step - loss: 1.0162e-07 - accuracy: 1.0000 - val_loss: 8.6845 - val_accuracy: 0.9571\n",
            "Epoch 21/40\n",
            "10/10 [==============================] - 13s 1s/step - loss: 9.6539e-08 - accuracy: 1.0000 - val_loss: 8.6845 - val_accuracy: 0.9571\n",
            "Epoch 22/40\n",
            "10/10 [==============================] - 13s 1s/step - loss: 9.4194e-08 - accuracy: 1.0000 - val_loss: 8.6844 - val_accuracy: 0.9571\n",
            "Epoch 23/40\n",
            "10/10 [==============================] - 14s 1s/step - loss: 9.0676e-08 - accuracy: 1.0000 - val_loss: 8.6843 - val_accuracy: 0.9571\n",
            "Epoch 24/40\n",
            "10/10 [==============================] - 13s 1s/step - loss: 8.5595e-08 - accuracy: 1.0000 - val_loss: 8.6843 - val_accuracy: 0.9571\n",
            "Epoch 25/40\n",
            "10/10 [==============================] - 14s 1s/step - loss: 8.1687e-08 - accuracy: 1.0000 - val_loss: 8.6842 - val_accuracy: 0.9571\n",
            "Epoch 26/40\n",
            "10/10 [==============================] - 14s 1s/step - loss: 7.8951e-08 - accuracy: 1.0000 - val_loss: 8.6842 - val_accuracy: 0.9571\n",
            "Epoch 27/40\n",
            "10/10 [==============================] - 14s 1s/step - loss: 7.6606e-08 - accuracy: 1.0000 - val_loss: 8.6841 - val_accuracy: 0.9571\n",
            "Epoch 28/40\n",
            "10/10 [==============================] - 14s 1s/step - loss: 7.3088e-08 - accuracy: 1.0000 - val_loss: 8.6841 - val_accuracy: 0.9571\n",
            "Epoch 29/40\n",
            "10/10 [==============================] - 14s 1s/step - loss: 7.0743e-08 - accuracy: 1.0000 - val_loss: 8.6840 - val_accuracy: 0.9571\n",
            "Epoch 30/40\n",
            "10/10 [==============================] - 14s 1s/step - loss: 6.7616e-08 - accuracy: 1.0000 - val_loss: 8.6839 - val_accuracy: 0.9571\n",
            "Epoch 31/40\n",
            "10/10 [==============================] - 14s 1s/step - loss: 6.6053e-08 - accuracy: 1.0000 - val_loss: 8.6839 - val_accuracy: 0.9571\n",
            "Epoch 32/40\n",
            "10/10 [==============================] - 14s 1s/step - loss: 6.2926e-08 - accuracy: 1.0000 - val_loss: 8.6838 - val_accuracy: 0.9571\n",
            "Epoch 33/40\n",
            "10/10 [==============================] - 14s 1s/step - loss: 6.1754e-08 - accuracy: 1.0000 - val_loss: 8.6838 - val_accuracy: 0.9571\n",
            "Epoch 34/40\n",
            "10/10 [==============================] - 14s 1s/step - loss: 5.9018e-08 - accuracy: 1.0000 - val_loss: 8.6837 - val_accuracy: 0.9571\n",
            "Epoch 35/40\n",
            "10/10 [==============================] - 14s 1s/step - loss: 5.6673e-08 - accuracy: 1.0000 - val_loss: 8.6837 - val_accuracy: 0.9571\n",
            "Epoch 36/40\n",
            "10/10 [==============================] - 14s 1s/step - loss: 5.4719e-08 - accuracy: 1.0000 - val_loss: 8.6836 - val_accuracy: 0.9571\n",
            "Epoch 37/40\n",
            "10/10 [==============================] - 14s 1s/step - loss: 5.3546e-08 - accuracy: 1.0000 - val_loss: 8.6836 - val_accuracy: 0.9571\n",
            "Epoch 38/40\n",
            "10/10 [==============================] - 14s 1s/step - loss: 5.1592e-08 - accuracy: 1.0000 - val_loss: 8.6835 - val_accuracy: 0.9571\n",
            "Epoch 39/40\n",
            "10/10 [==============================] - 14s 1s/step - loss: 5.0028e-08 - accuracy: 1.0000 - val_loss: 8.6835 - val_accuracy: 0.9571\n",
            "Epoch 40/40\n",
            "10/10 [==============================] - 14s 1s/step - loss: 4.8856e-08 - accuracy: 1.0000 - val_loss: 8.6834 - val_accuracy: 0.9571\n"
          ]
        }
      ]
    },
    {
      "cell_type": "code",
      "source": [
        "import matplotlib.pyplot as plt\n",
        "plt.plot(baseline_history.history['accuracy'], label='Baseline Training Accuracy')\n",
        "plt.plot(baseline_history.history['val_accuracy'], label='Baseline Validation Accuracy')\n",
        "plt.plot(augmented_history.history['accuracy'], label='Augmented Training Accuracy')\n",
        "plt.plot(augmented_history.history['val_accuracy'], label='Augmented Validation Accuracy')\n",
        "plt.xlabel('Epoch')\n",
        "plt.ylabel('Accuracy')\n",
        "plt.title('Training and Validation Accuracy')\n",
        "plt.legend()\n",
        "plt.show()"
      ],
      "metadata": {
        "colab": {
          "base_uri": "https://localhost:8080/",
          "height": 472
        },
        "id": "wKxXt_fONJmj",
        "outputId": "a442618d-a3f7-49ba-dfa7-5bd3f5c3fac4"
      },
      "execution_count": 9,
      "outputs": [
        {
          "output_type": "display_data",
          "data": {
            "text/plain": [
              "<Figure size 640x480 with 1 Axes>"
            ],
            "image/png": "[encoded data removed]"
          },
          "metadata": {}
        }
      ]
    },
    {
      "cell_type": "code",
      "source": [
        "# Evaluate both models on the test set\n",
        "baseline_score = baseline_model.evaluate(X_test, y_test, verbose=0)\n",
        "augmented_score = augmented_model.evaluate(X_test, y_test, verbose=0)\n",
        "print(\"Baseline Model - Test loss:\", baseline_score[0], \"Test accuracy:\", baseline_score[1])\n",
        "print(\"Augmented Model - Test loss:\", augmented_score[0], \"Test accuracy:\", augmented_score[1])"
      ],
      "metadata": {
        "id": "MTEltm3SBC9F",
        "colab": {
          "base_uri": "https://localhost:8080/"
        },
        "outputId": "2a5e6e5d-a49c-48ed-eda7-42399e02a1fb"
      },
      "execution_count": 10,
      "outputs": [
        {
          "output_type": "stream",
          "name": "stdout",
          "text": [
            "Baseline Model - Test loss: 8.681499481201172 Test accuracy: 0.8905325531959534\n",
            "Augmented Model - Test loss: 4.976903438568115 Test accuracy: 0.9704142212867737\n"
          ]
        }
      ]
    },
    {
      "cell_type": "code",
      "source": [],
      "metadata": {
        "id": "WtP17-NjNzPz"
      },
      "execution_count": 10,
      "outputs": []
    },
    {
      "cell_type": "code",
      "source": [],
      "metadata": {
        "id": "VMq9HnJzNzNC"
      },
      "execution_count": 10,
      "outputs": []
    }
  ]
}