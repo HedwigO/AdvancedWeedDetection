{
  "nbformat": 4,
  "nbformat_minor": 0,
  "metadata": {
    "colab": {
      "provenance": [],
      "machine_shape": "hm",
      "gpuType": "A100"
    },
    "kernelspec": {
      "name": "python3",
      "display_name": "Python 3"
    },
    "language_info": {
      "name": "python"
    },
    "accelerator": "GPU"
  },
  "cells": [
    {
      "cell_type": "code",
      "execution_count": null,
      "metadata": {
        "id": "BjiarMyg-8Ob"
      },
      "outputs": [],
      "source": [
        "import numpy as np\n",
        "import pandas as pd\n",
        "import os\n",
        "from sklearn.model_selection import train_test_split\n",
        "from tensorflow.keras.models import Sequential\n",
        "from tensorflow.keras.layers import Conv2D, MaxPooling2D, Flatten, Dense\n",
        "from tensorflow.keras.utils import to_categorical\n",
        "import albumentations as A"
      ]
    },
    {
      "cell_type": "code",
      "source": [
        "# Define function to apply weather effects\n",
        "def apply_weather_effect(image, effect_type=\"rain\"):\n",
        "    if effect_type == \"rain\":\n",
        "        transform = A.RandomRain(brightness_coefficient=0.9, drop_width=1, blur_value=3, p=1)\n",
        "    elif effect_type == \"snow\":\n",
        "        transform = A.RandomSnow(brightness_coeff=2.5, snow_point_lower=0.3, snow_point_upper=0.5, p=1)\n",
        "    return transform(image=image)['image']"
      ],
      "metadata": {
        "id": "krpYGEYo_Xqa"
      },
      "execution_count": null,
      "outputs": []
    },
    {
      "cell_type": "code",
      "source": [
        "from google.colab import drive\n",
        "drive.mount('/content/drive')"
      ],
      "metadata": {
        "colab": {
          "base_uri": "https://localhost:8080/"
        },
        "id": "RS3PgZ_oAUDg",
        "outputId": "af691e82-0ada-4b76-c0b2-bb0cb4a5a50d"
      },
      "execution_count": null,
      "outputs": [
        {
          "output_type": "stream",
          "name": "stdout",
          "text": [
            "Mounted at /content/drive\n"
          ]
        }
      ]
    },
    {
      "cell_type": "code",
      "source": [
        "# Load dataset\n",
        "image_data_dir = \"/content/drive/My Drive/CNN/Dataset/train_images\"\n",
        "image_filenames = os.listdir(image_data_dir)\n",
        "labels_data = pd.read_csv(\"/content/drive/My Drive/CNN/Dataset/labels.csv\")\n",
        "\n",
        "# Preprocess and separate original and augmented data\n",
        "original_images = []\n",
        "augmented_images = []\n",
        "original_labels = []\n",
        "augmented_labels = []\n",
        "\n",
        "for filename in image_filenames:\n",
        "    image_path = os.path.join(image_data_dir, filename)\n",
        "    image = cv2.imread(image_path)\n",
        "    image = cv2.cvtColor(image, cv2.COLOR_BGR2RGB) if image is not None else None\n",
        "    if image is not None and filename in labels_data['image_filename'].values:\n",
        "        label = labels_data[labels_data['image_filename'] == filename]['label'].iloc[0]\n",
        "        original_images.append(image)\n",
        "        original_labels.append(label)\n",
        "\n",
        "        # Randomly decide to augment with weather effects\n",
        "        if np.random.rand() < 0.5:  # 50% chance to augment\n",
        "            effect_type = np.random.choice([\"rain\", \"snow\"])\n",
        "            aug_image = apply_weather_effect(image, effect_type=effect_type)\n",
        "            augmented_images.append(aug_image)\n",
        "            augmented_labels.append(label)"
      ],
      "metadata": {
        "id": "FKUqG7aX_cQt"
      },
      "execution_count": null,
      "outputs": []
    },
    {
      "cell_type": "code",
      "source": [
        "# Convert lists to arrays\n",
        "X_original = np.array(original_images)\n",
        "y_original = to_categorical(np.array(original_labels))\n",
        "X_augmented = np.array(augmented_images)\n",
        "y_augmented = to_categorical(np.array(augmented_labels))\n",
        "\n",
        "# Combine original and augmented for validation and testing\n",
        "X_combined = np.concatenate((X_original, X_augmented))\n",
        "y_combined = np.concatenate((y_original, y_augmented))\n",
        "\n",
        "# Split into training, validation, and test sets\n",
        "X_train_orig, X_temp, y_train_orig, y_temp = train_test_split(X_original, y_original, test_size=0.3, random_state=42)\n",
        "X_val, X_test, y_val, y_test = train_test_split(X_combined, y_combined, test_size=0.5, random_state=42)  # Split combined for validation and testing\n",
        "\n",
        "X_train_aug, _, y_train_aug, _ = train_test_split(X_augmented, y_augmented, test_size=0.3, random_state=42)  # Training set for augmented model"
      ],
      "metadata": {
        "id": "_KIfXhOi_mQR"
      },
      "execution_count": null,
      "outputs": []
    },
    {
      "cell_type": "code",
      "source": [
        "from tensorflow.keras.applications import InceptionV3\n",
        "\n",
        "def create_model(input_shape, num_classes):\n",
        "    base_model = InceptionV3(weights='imagenet', include_top=False, input_shape=input_shape)\n",
        "    for layer in base_model.layers:\n",
        "        layer.trainable = False\n",
        "\n",
        "    model = Sequential([\n",
        "        base_model,\n",
        "        Flatten(),\n",
        "        Dense(64, activation=\"relu\"),\n",
        "        Dense(num_classes, activation=\"softmax\")\n",
        "    ])\n",
        "    model.compile(loss=\"categorical_crossentropy\", optimizer=\"adam\", metrics=[\"accuracy\"])\n",
        "    return model\n"
      ],
      "metadata": {
        "id": "qqB-8MqJJaz8"
      },
      "execution_count": null,
      "outputs": []
    },
    {
      "cell_type": "code",
      "source": [
        "# Create and train baseline model\n",
        "baseline_model = create_model(X_train_orig.shape[1:], y_train_orig.shape[1])\n",
        "baseline_history = baseline_model.fit(X_train_orig, y_train_orig, epochs=40, validation_data=(X_val, y_val))\n"
      ],
      "metadata": {
        "id": "0iMEK6kyNT0E",
        "colab": {
          "base_uri": "https://localhost:8080/"
        },
        "outputId": "5c50c62f-8ce7-4000-9033-1265e23ff567"
      },
      "execution_count": null,
      "outputs": [
        {
          "output_type": "stream",
          "name": "stdout",
          "text": [
            "Downloading data from https://storage.googleapis.com/tensorflow/keras-applications/inception_v3/inception_v3_weights_tf_dim_ordering_tf_kernels_notop.h5\n",
            "87910968/87910968 [==============================] - 5s 0us/step\n",
            "Epoch 1/40\n",
            "21/21 [==============================] - 18s 374ms/step - loss: 436.2143 - accuracy: 0.5491 - val_loss: 0.6930 - val_accuracy: 0.4766\n",
            "Epoch 2/40\n",
            "21/21 [==============================] - 2s 119ms/step - loss: 0.6935 - accuracy: 0.4633 - val_loss: 0.6928 - val_accuracy: 0.4766\n",
            "Epoch 3/40\n",
            "21/21 [==============================] - 2s 121ms/step - loss: 0.6931 - accuracy: 0.5086 - val_loss: 0.6925 - val_accuracy: 0.5263\n",
            "Epoch 4/40\n",
            "21/21 [==============================] - 2s 120ms/step - loss: 0.6928 - accuracy: 0.5367 - val_loss: 0.6921 - val_accuracy: 0.5263\n",
            "Epoch 5/40\n",
            "21/21 [==============================] - 2s 119ms/step - loss: 0.6923 - accuracy: 0.5367 - val_loss: 0.6919 - val_accuracy: 0.5263\n",
            "Epoch 6/40\n",
            "21/21 [==============================] - 2s 118ms/step - loss: 0.6921 - accuracy: 0.5367 - val_loss: 0.6919 - val_accuracy: 0.5263\n",
            "Epoch 7/40\n",
            "21/21 [==============================] - 2s 118ms/step - loss: 0.6918 - accuracy: 0.5367 - val_loss: 0.6917 - val_accuracy: 0.5263\n",
            "Epoch 8/40\n",
            "21/21 [==============================] - 2s 119ms/step - loss: 0.6915 - accuracy: 0.5367 - val_loss: 0.6916 - val_accuracy: 0.5263\n",
            "Epoch 9/40\n",
            "21/21 [==============================] - 2s 120ms/step - loss: 0.6912 - accuracy: 0.5367 - val_loss: 0.6915 - val_accuracy: 0.5263\n",
            "Epoch 10/40\n",
            "21/21 [==============================] - 2s 119ms/step - loss: 0.6911 - accuracy: 0.5367 - val_loss: 0.6914 - val_accuracy: 0.5263\n",
            "Epoch 11/40\n",
            "21/21 [==============================] - 2s 119ms/step - loss: 0.6909 - accuracy: 0.5367 - val_loss: 0.6914 - val_accuracy: 0.5263\n",
            "Epoch 12/40\n",
            "21/21 [==============================] - 2s 118ms/step - loss: 0.6909 - accuracy: 0.5367 - val_loss: 0.6914 - val_accuracy: 0.5263\n",
            "Epoch 13/40\n",
            "21/21 [==============================] - 2s 118ms/step - loss: 0.6909 - accuracy: 0.5367 - val_loss: 0.6914 - val_accuracy: 0.5263\n",
            "Epoch 14/40\n",
            "21/21 [==============================] - 2s 119ms/step - loss: 0.6908 - accuracy: 0.5367 - val_loss: 0.6913 - val_accuracy: 0.5263\n",
            "Epoch 15/40\n",
            "21/21 [==============================] - 2s 118ms/step - loss: 0.6908 - accuracy: 0.5367 - val_loss: 0.6913 - val_accuracy: 0.5263\n",
            "Epoch 16/40\n",
            "21/21 [==============================] - 2s 118ms/step - loss: 0.6907 - accuracy: 0.5367 - val_loss: 0.6913 - val_accuracy: 0.5263\n",
            "Epoch 17/40\n",
            "21/21 [==============================] - 2s 118ms/step - loss: 0.6908 - accuracy: 0.5367 - val_loss: 0.6913 - val_accuracy: 0.5263\n",
            "Epoch 18/40\n",
            "21/21 [==============================] - 2s 118ms/step - loss: 0.6907 - accuracy: 0.5367 - val_loss: 0.6913 - val_accuracy: 0.5263\n",
            "Epoch 19/40\n",
            "21/21 [==============================] - 2s 119ms/step - loss: 0.6907 - accuracy: 0.5367 - val_loss: 0.6913 - val_accuracy: 0.5263\n",
            "Epoch 20/40\n",
            "21/21 [==============================] - 2s 119ms/step - loss: 0.6907 - accuracy: 0.5367 - val_loss: 0.6913 - val_accuracy: 0.5263\n",
            "Epoch 21/40\n",
            "21/21 [==============================] - 2s 119ms/step - loss: 0.6906 - accuracy: 0.5367 - val_loss: 0.6914 - val_accuracy: 0.5263\n",
            "Epoch 22/40\n",
            "21/21 [==============================] - 2s 119ms/step - loss: 0.6907 - accuracy: 0.5367 - val_loss: 0.6913 - val_accuracy: 0.5263\n",
            "Epoch 23/40\n",
            "21/21 [==============================] - 2s 117ms/step - loss: 0.6906 - accuracy: 0.5367 - val_loss: 0.6914 - val_accuracy: 0.5263\n",
            "Epoch 24/40\n",
            "21/21 [==============================] - 2s 119ms/step - loss: 0.6905 - accuracy: 0.5367 - val_loss: 0.6914 - val_accuracy: 0.5263\n",
            "Epoch 25/40\n",
            "21/21 [==============================] - 2s 119ms/step - loss: 0.6906 - accuracy: 0.5367 - val_loss: 0.6914 - val_accuracy: 0.5263\n",
            "Epoch 26/40\n",
            "21/21 [==============================] - 2s 119ms/step - loss: 0.6905 - accuracy: 0.5367 - val_loss: 0.6914 - val_accuracy: 0.5263\n",
            "Epoch 27/40\n",
            "21/21 [==============================] - 2s 118ms/step - loss: 0.6906 - accuracy: 0.5367 - val_loss: 0.6914 - val_accuracy: 0.5263\n",
            "Epoch 28/40\n",
            "21/21 [==============================] - 2s 118ms/step - loss: 0.6905 - accuracy: 0.5367 - val_loss: 0.6914 - val_accuracy: 0.5263\n",
            "Epoch 29/40\n",
            "21/21 [==============================] - 2s 120ms/step - loss: 0.6905 - accuracy: 0.5367 - val_loss: 0.6914 - val_accuracy: 0.5263\n",
            "Epoch 30/40\n",
            "21/21 [==============================] - 2s 119ms/step - loss: 0.6905 - accuracy: 0.5367 - val_loss: 0.6914 - val_accuracy: 0.5263\n",
            "Epoch 31/40\n",
            "21/21 [==============================] - 2s 118ms/step - loss: 0.6905 - accuracy: 0.5367 - val_loss: 0.6914 - val_accuracy: 0.5263\n",
            "Epoch 32/40\n",
            "21/21 [==============================] - 2s 119ms/step - loss: 0.6906 - accuracy: 0.5367 - val_loss: 0.6914 - val_accuracy: 0.5263\n",
            "Epoch 33/40\n",
            "21/21 [==============================] - 2s 119ms/step - loss: 0.6905 - accuracy: 0.5367 - val_loss: 0.6914 - val_accuracy: 0.5263\n",
            "Epoch 34/40\n",
            "21/21 [==============================] - 2s 120ms/step - loss: 0.6905 - accuracy: 0.5367 - val_loss: 0.6915 - val_accuracy: 0.5263\n",
            "Epoch 35/40\n",
            "21/21 [==============================] - 2s 118ms/step - loss: 0.6905 - accuracy: 0.5367 - val_loss: 0.6915 - val_accuracy: 0.5263\n",
            "Epoch 36/40\n",
            "21/21 [==============================] - 2s 118ms/step - loss: 0.6905 - accuracy: 0.5367 - val_loss: 0.6914 - val_accuracy: 0.5263\n",
            "Epoch 37/40\n",
            "21/21 [==============================] - 2s 119ms/step - loss: 0.6905 - accuracy: 0.5367 - val_loss: 0.6914 - val_accuracy: 0.5263\n",
            "Epoch 38/40\n",
            "21/21 [==============================] - 2s 119ms/step - loss: 0.6905 - accuracy: 0.5367 - val_loss: 0.6914 - val_accuracy: 0.5263\n",
            "Epoch 39/40\n",
            "21/21 [==============================] - 2s 119ms/step - loss: 0.6905 - accuracy: 0.5367 - val_loss: 0.6915 - val_accuracy: 0.5263\n",
            "Epoch 40/40\n",
            "21/21 [==============================] - 2s 117ms/step - loss: 0.6905 - accuracy: 0.5367 - val_loss: 0.6915 - val_accuracy: 0.5263\n"
          ]
        }
      ]
    },
    {
      "cell_type": "code",
      "source": [
        "# Create and train augmented model\n",
        "augmented_model = create_model(X_train_aug.shape[1:], y_train_aug.shape[1])\n",
        "augmented_history = augmented_model.fit(X_train_aug, y_train_aug, epochs=40, validation_data=(X_val, y_val))\n"
      ],
      "metadata": {
        "id": "xfL48_-5BBgX",
        "colab": {
          "base_uri": "https://localhost:8080/"
        },
        "outputId": "55208f56-e3a2-408c-ce74-5e20a2cb95a4"
      },
      "execution_count": null,
      "outputs": [
        {
          "output_type": "stream",
          "name": "stdout",
          "text": [
            "Epoch 1/40\n",
            "10/10 [==============================] - 12s 808ms/step - loss: 876.9949 - accuracy: 0.5601 - val_loss: 115.8352 - val_accuracy: 0.5906\n",
            "Epoch 2/40\n",
            "10/10 [==============================] - 2s 194ms/step - loss: 79.1966 - accuracy: 0.5949 - val_loss: 52.8570 - val_accuracy: 0.6930\n",
            "Epoch 3/40\n",
            "10/10 [==============================] - 2s 197ms/step - loss: 48.4073 - accuracy: 0.6899 - val_loss: 39.0669 - val_accuracy: 0.6564\n",
            "Epoch 4/40\n",
            "10/10 [==============================] - 2s 196ms/step - loss: 16.7159 - accuracy: 0.7627 - val_loss: 31.6336 - val_accuracy: 0.6184\n",
            "Epoch 5/40\n",
            "10/10 [==============================] - 2s 195ms/step - loss: 15.2401 - accuracy: 0.7690 - val_loss: 8.0876 - val_accuracy: 0.8582\n",
            "Epoch 6/40\n",
            "10/10 [==============================] - 2s 195ms/step - loss: 8.4655 - accuracy: 0.8766 - val_loss: 10.2051 - val_accuracy: 0.8392\n",
            "Epoch 7/40\n",
            "10/10 [==============================] - 2s 195ms/step - loss: 4.8112 - accuracy: 0.9051 - val_loss: 13.2351 - val_accuracy: 0.7968\n",
            "Epoch 8/40\n",
            "10/10 [==============================] - 2s 195ms/step - loss: 1.7631 - accuracy: 0.9494 - val_loss: 5.8879 - val_accuracy: 0.8640\n",
            "Epoch 9/40\n",
            "10/10 [==============================] - 2s 195ms/step - loss: 1.2624 - accuracy: 0.9494 - val_loss: 9.6831 - val_accuracy: 0.7836\n",
            "Epoch 10/40\n",
            "10/10 [==============================] - 2s 196ms/step - loss: 0.4307 - accuracy: 0.9747 - val_loss: 5.3333 - val_accuracy: 0.8699\n",
            "Epoch 11/40\n",
            "10/10 [==============================] - 2s 196ms/step - loss: 0.2091 - accuracy: 0.9842 - val_loss: 5.2416 - val_accuracy: 0.8626\n",
            "Epoch 12/40\n",
            "10/10 [==============================] - 2s 197ms/step - loss: 0.1228 - accuracy: 0.9905 - val_loss: 4.9015 - val_accuracy: 0.8874\n",
            "Epoch 13/40\n",
            "10/10 [==============================] - 2s 196ms/step - loss: 0.2324 - accuracy: 0.9873 - val_loss: 8.3896 - val_accuracy: 0.8143\n",
            "Epoch 14/40\n",
            "10/10 [==============================] - 2s 197ms/step - loss: 0.4367 - accuracy: 0.9778 - val_loss: 5.1720 - val_accuracy: 0.8947\n",
            "Epoch 15/40\n",
            "10/10 [==============================] - 2s 196ms/step - loss: 0.2288 - accuracy: 0.9873 - val_loss: 7.2645 - val_accuracy: 0.8363\n",
            "Epoch 16/40\n",
            "10/10 [==============================] - 2s 195ms/step - loss: 0.0151 - accuracy: 0.9968 - val_loss: 5.0879 - val_accuracy: 0.8728\n",
            "Epoch 17/40\n",
            "10/10 [==============================] - 2s 196ms/step - loss: 0.0368 - accuracy: 0.9937 - val_loss: 6.0917 - val_accuracy: 0.8494\n",
            "Epoch 18/40\n",
            "10/10 [==============================] - 2s 196ms/step - loss: 0.0076 - accuracy: 0.9968 - val_loss: 6.8319 - val_accuracy: 0.8260\n",
            "Epoch 19/40\n",
            "10/10 [==============================] - 2s 194ms/step - loss: 0.0048 - accuracy: 0.9968 - val_loss: 8.0292 - val_accuracy: 0.8070\n",
            "Epoch 20/40\n",
            "10/10 [==============================] - 2s 197ms/step - loss: 0.0045 - accuracy: 0.9968 - val_loss: 8.4432 - val_accuracy: 0.8026\n",
            "Epoch 21/40\n",
            "10/10 [==============================] - 2s 197ms/step - loss: 0.0000e+00 - accuracy: 1.0000 - val_loss: 6.1818 - val_accuracy: 0.8465\n",
            "Epoch 22/40\n",
            "10/10 [==============================] - 2s 195ms/step - loss: 0.0000e+00 - accuracy: 1.0000 - val_loss: 5.6627 - val_accuracy: 0.8699\n",
            "Epoch 23/40\n",
            "10/10 [==============================] - 2s 198ms/step - loss: 0.0000e+00 - accuracy: 1.0000 - val_loss: 5.5112 - val_accuracy: 0.8684\n",
            "Epoch 24/40\n",
            "10/10 [==============================] - 2s 197ms/step - loss: 0.0000e+00 - accuracy: 1.0000 - val_loss: 5.4613 - val_accuracy: 0.8670\n",
            "Epoch 25/40\n",
            "10/10 [==============================] - 2s 198ms/step - loss: 0.0000e+00 - accuracy: 1.0000 - val_loss: 5.4440 - val_accuracy: 0.8684\n",
            "Epoch 26/40\n",
            "10/10 [==============================] - 2s 196ms/step - loss: 0.0000e+00 - accuracy: 1.0000 - val_loss: 5.4379 - val_accuracy: 0.8684\n",
            "Epoch 27/40\n",
            "10/10 [==============================] - 2s 197ms/step - loss: 0.0000e+00 - accuracy: 1.0000 - val_loss: 5.4357 - val_accuracy: 0.8684\n",
            "Epoch 28/40\n",
            "10/10 [==============================] - 2s 200ms/step - loss: 0.0000e+00 - accuracy: 1.0000 - val_loss: 5.4350 - val_accuracy: 0.8684\n",
            "Epoch 29/40\n",
            "10/10 [==============================] - 2s 198ms/step - loss: 0.0000e+00 - accuracy: 1.0000 - val_loss: 5.4347 - val_accuracy: 0.8684\n",
            "Epoch 30/40\n",
            "10/10 [==============================] - 2s 201ms/step - loss: 0.0000e+00 - accuracy: 1.0000 - val_loss: 5.4346 - val_accuracy: 0.8684\n",
            "Epoch 31/40\n",
            "10/10 [==============================] - 2s 199ms/step - loss: 0.0000e+00 - accuracy: 1.0000 - val_loss: 5.4346 - val_accuracy: 0.8684\n",
            "Epoch 32/40\n",
            "10/10 [==============================] - 2s 198ms/step - loss: 0.0000e+00 - accuracy: 1.0000 - val_loss: 5.4346 - val_accuracy: 0.8684\n",
            "Epoch 33/40\n",
            "10/10 [==============================] - 2s 196ms/step - loss: 0.0000e+00 - accuracy: 1.0000 - val_loss: 5.4346 - val_accuracy: 0.8684\n",
            "Epoch 34/40\n",
            "10/10 [==============================] - 2s 195ms/step - loss: 0.0000e+00 - accuracy: 1.0000 - val_loss: 5.4346 - val_accuracy: 0.8684\n",
            "Epoch 35/40\n",
            "10/10 [==============================] - 2s 196ms/step - loss: 0.0000e+00 - accuracy: 1.0000 - val_loss: 5.4346 - val_accuracy: 0.8684\n",
            "Epoch 36/40\n",
            "10/10 [==============================] - 2s 197ms/step - loss: 0.0000e+00 - accuracy: 1.0000 - val_loss: 5.4346 - val_accuracy: 0.8684\n",
            "Epoch 37/40\n",
            "10/10 [==============================] - 2s 196ms/step - loss: 0.0000e+00 - accuracy: 1.0000 - val_loss: 5.4346 - val_accuracy: 0.8684\n",
            "Epoch 38/40\n",
            "10/10 [==============================] - 2s 195ms/step - loss: 0.0000e+00 - accuracy: 1.0000 - val_loss: 5.4346 - val_accuracy: 0.8684\n",
            "Epoch 39/40\n",
            "10/10 [==============================] - 2s 196ms/step - loss: 0.0000e+00 - accuracy: 1.0000 - val_loss: 5.4346 - val_accuracy: 0.8684\n",
            "Epoch 40/40\n",
            "10/10 [==============================] - 2s 194ms/step - loss: 0.0000e+00 - accuracy: 1.0000 - val_loss: 5.4346 - val_accuracy: 0.8684\n"
          ]
        }
      ]
    },
    {
      "cell_type": "code",
      "source": [
        "import matplotlib.pyplot as plt\n",
        "plt.plot(baseline_history.history['accuracy'], label='Baseline Training Accuracy')\n",
        "plt.plot(baseline_history.history['val_accuracy'], label='Baseline Validation Accuracy')\n",
        "plt.plot(augmented_history.history['accuracy'], label='Augmented Training Accuracy')\n",
        "plt.plot(augmented_history.history['val_accuracy'], label='Augmented Validation Accuracy')\n",
        "plt.xlabel('Epoch')\n",
        "plt.ylabel('Accuracy')\n",
        "plt.title('Training and Validation Accuracy (InceptionV3)')\n",
        "plt.legend()\n",
        "plt.show()"
      ],
      "metadata": {
        "id": "wKxXt_fONJmj",
        "colab": {
          "base_uri": "https://localhost:8080/",
          "height": 472
        },
        "outputId": "4dca9aae-228d-4689-c98d-69daac3f710b"
      },
      "execution_count": null,
      "outputs": [
        {
          "output_type": "display_data",
          "data": {
            "text/plain": [
              "<Figure size 640x480 with 1 Axes>"
            ],
            "image/png": "[encoded data removed]"
          },
          "metadata": {}
        }
      ]
    },
    {
      "cell_type": "code",
      "source": [
        "# Evaluate both models on the test set\n",
        "baseline_score = baseline_model.evaluate(X_test, y_test, verbose=0)\n",
        "augmented_score = augmented_model.evaluate(X_test, y_test, verbose=0)\n",
        "print(\"Baseline Model - Test loss:\", baseline_score[0], \"Test accuracy:\", baseline_score[1])\n",
        "print(\"Augmented Model - Test loss:\", augmented_score[0], \"Test accuracy:\", augmented_score[1])"
      ],
      "metadata": {
        "id": "MTEltm3SBC9F",
        "colab": {
          "base_uri": "https://localhost:8080/"
        },
        "outputId": "33a198db-25ea-4daf-c242-17d8bf667c03"
      },
      "execution_count": null,
      "outputs": [
        {
          "output_type": "stream",
          "name": "stdout",
          "text": [
            "Baseline Model - Test loss: 0.6854309439659119 Test accuracy: 0.5716374516487122\n",
            "Augmented Model - Test loss: 5.966674327850342 Test accuracy: 0.8654970526695251\n"
          ]
        }
      ]
    }
  ]
}